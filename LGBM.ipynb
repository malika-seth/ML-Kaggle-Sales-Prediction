{
  "nbformat": 4,
  "nbformat_minor": 0,
  "metadata": {
    "colab": {
      "name": "LGBM.ipynb",
      "provenance": [],
      "collapsed_sections": [],
      "toc_visible": true,
      "machine_shape": "hm"
    },
    "kernelspec": {
      "name": "python3",
      "display_name": "Python 3"
    },
    "widgets": {
      "application/vnd.jupyter.widget-state+json": {
        "fc4832fb5e254b5bbd5413da32333a82": {
          "model_module": "@jupyter-widgets/controls",
          "model_name": "HBoxModel",
          "state": {
            "_view_name": "HBoxView",
            "_dom_classes": [],
            "_model_name": "HBoxModel",
            "_view_module": "@jupyter-widgets/controls",
            "_model_module_version": "1.5.0",
            "_view_count": null,
            "_view_module_version": "1.5.0",
            "box_style": "",
            "layout": "IPY_MODEL_1778e3cb60284bb8b579d6fa1bcfb640",
            "_model_module": "@jupyter-widgets/controls",
            "children": [
              "IPY_MODEL_6636e66fb3f6449f8611bde18f3c7e42",
              "IPY_MODEL_9f0a192bf7f246a688ead04f423fd7e9"
            ]
          }
        },
        "1778e3cb60284bb8b579d6fa1bcfb640": {
          "model_module": "@jupyter-widgets/base",
          "model_name": "LayoutModel",
          "state": {
            "_view_name": "LayoutView",
            "grid_template_rows": null,
            "right": null,
            "justify_content": null,
            "_view_module": "@jupyter-widgets/base",
            "overflow": null,
            "_model_module_version": "1.2.0",
            "_view_count": null,
            "flex_flow": null,
            "width": null,
            "min_width": null,
            "border": null,
            "align_items": null,
            "bottom": null,
            "_model_module": "@jupyter-widgets/base",
            "top": null,
            "grid_column": null,
            "overflow_y": null,
            "overflow_x": null,
            "grid_auto_flow": null,
            "grid_area": null,
            "grid_template_columns": null,
            "flex": null,
            "_model_name": "LayoutModel",
            "justify_items": null,
            "grid_row": null,
            "max_height": null,
            "align_content": null,
            "visibility": null,
            "align_self": null,
            "height": null,
            "min_height": null,
            "padding": null,
            "grid_auto_rows": null,
            "grid_gap": null,
            "max_width": null,
            "order": null,
            "_view_module_version": "1.2.0",
            "grid_template_areas": null,
            "object_position": null,
            "object_fit": null,
            "grid_auto_columns": null,
            "margin": null,
            "display": null,
            "left": null
          }
        },
        "6636e66fb3f6449f8611bde18f3c7e42": {
          "model_module": "@jupyter-widgets/controls",
          "model_name": "IntProgressModel",
          "state": {
            "_view_name": "ProgressView",
            "style": "IPY_MODEL_3550df372e304eeeb5f5a0f902cb5c61",
            "_dom_classes": [],
            "description": "  0%",
            "_model_name": "IntProgressModel",
            "bar_style": "",
            "max": 5,
            "_view_module": "@jupyter-widgets/controls",
            "_model_module_version": "1.5.0",
            "value": 0,
            "_view_count": null,
            "_view_module_version": "1.5.0",
            "orientation": "horizontal",
            "min": 0,
            "description_tooltip": null,
            "_model_module": "@jupyter-widgets/controls",
            "layout": "IPY_MODEL_3ab2e7d2533e4059bd8b924b9e236d26"
          }
        },
        "9f0a192bf7f246a688ead04f423fd7e9": {
          "model_module": "@jupyter-widgets/controls",
          "model_name": "HTMLModel",
          "state": {
            "_view_name": "HTMLView",
            "style": "IPY_MODEL_e18f840b0e7546a99f24feaf96e3a1ca",
            "_dom_classes": [],
            "description": "",
            "_model_name": "HTMLModel",
            "placeholder": "​",
            "_view_module": "@jupyter-widgets/controls",
            "_model_module_version": "1.5.0",
            "value": " 0/5 [00:00&lt;?, ?it/s]",
            "_view_count": null,
            "_view_module_version": "1.5.0",
            "description_tooltip": null,
            "_model_module": "@jupyter-widgets/controls",
            "layout": "IPY_MODEL_48eeda4bd44b4d97a90291d323b671da"
          }
        },
        "3550df372e304eeeb5f5a0f902cb5c61": {
          "model_module": "@jupyter-widgets/controls",
          "model_name": "ProgressStyleModel",
          "state": {
            "_view_name": "StyleView",
            "_model_name": "ProgressStyleModel",
            "description_width": "initial",
            "_view_module": "@jupyter-widgets/base",
            "_model_module_version": "1.5.0",
            "_view_count": null,
            "_view_module_version": "1.2.0",
            "bar_color": null,
            "_model_module": "@jupyter-widgets/controls"
          }
        },
        "3ab2e7d2533e4059bd8b924b9e236d26": {
          "model_module": "@jupyter-widgets/base",
          "model_name": "LayoutModel",
          "state": {
            "_view_name": "LayoutView",
            "grid_template_rows": null,
            "right": null,
            "justify_content": null,
            "_view_module": "@jupyter-widgets/base",
            "overflow": null,
            "_model_module_version": "1.2.0",
            "_view_count": null,
            "flex_flow": null,
            "width": null,
            "min_width": null,
            "border": null,
            "align_items": null,
            "bottom": null,
            "_model_module": "@jupyter-widgets/base",
            "top": null,
            "grid_column": null,
            "overflow_y": null,
            "overflow_x": null,
            "grid_auto_flow": null,
            "grid_area": null,
            "grid_template_columns": null,
            "flex": null,
            "_model_name": "LayoutModel",
            "justify_items": null,
            "grid_row": null,
            "max_height": null,
            "align_content": null,
            "visibility": null,
            "align_self": null,
            "height": null,
            "min_height": null,
            "padding": null,
            "grid_auto_rows": null,
            "grid_gap": null,
            "max_width": null,
            "order": null,
            "_view_module_version": "1.2.0",
            "grid_template_areas": null,
            "object_position": null,
            "object_fit": null,
            "grid_auto_columns": null,
            "margin": null,
            "display": null,
            "left": null
          }
        },
        "e18f840b0e7546a99f24feaf96e3a1ca": {
          "model_module": "@jupyter-widgets/controls",
          "model_name": "DescriptionStyleModel",
          "state": {
            "_view_name": "StyleView",
            "_model_name": "DescriptionStyleModel",
            "description_width": "",
            "_view_module": "@jupyter-widgets/base",
            "_model_module_version": "1.5.0",
            "_view_count": null,
            "_view_module_version": "1.2.0",
            "_model_module": "@jupyter-widgets/controls"
          }
        },
        "48eeda4bd44b4d97a90291d323b671da": {
          "model_module": "@jupyter-widgets/base",
          "model_name": "LayoutModel",
          "state": {
            "_view_name": "LayoutView",
            "grid_template_rows": null,
            "right": null,
            "justify_content": null,
            "_view_module": "@jupyter-widgets/base",
            "overflow": null,
            "_model_module_version": "1.2.0",
            "_view_count": null,
            "flex_flow": null,
            "width": null,
            "min_width": null,
            "border": null,
            "align_items": null,
            "bottom": null,
            "_model_module": "@jupyter-widgets/base",
            "top": null,
            "grid_column": null,
            "overflow_y": null,
            "overflow_x": null,
            "grid_auto_flow": null,
            "grid_area": null,
            "grid_template_columns": null,
            "flex": null,
            "_model_name": "LayoutModel",
            "justify_items": null,
            "grid_row": null,
            "max_height": null,
            "align_content": null,
            "visibility": null,
            "align_self": null,
            "height": null,
            "min_height": null,
            "padding": null,
            "grid_auto_rows": null,
            "grid_gap": null,
            "max_width": null,
            "order": null,
            "_view_module_version": "1.2.0",
            "grid_template_areas": null,
            "object_position": null,
            "object_fit": null,
            "grid_auto_columns": null,
            "margin": null,
            "display": null,
            "left": null
          }
        }
      }
    },
    "accelerator": "TPU"
  },
  "cells": [
    {
      "cell_type": "code",
      "metadata": {
        "id": "xdpOZr7yF5rE",
        "colab_type": "code",
        "outputId": "dee95464-cec7-43be-975c-6e4106fb8f50",
        "colab": {
          "base_uri": "https://localhost:8080/",
          "height": 54
        }
      },
      "source": [
        "from google.colab import drive\n",
        "drive.mount('/content/gdrive')"
      ],
      "execution_count": 1,
      "outputs": [
        {
          "output_type": "stream",
          "text": [
            "Drive already mounted at /content/gdrive; to attempt to forcibly remount, call drive.mount(\"/content/gdrive\", force_remount=True).\n"
          ],
          "name": "stdout"
        }
      ]
    },
    {
      "cell_type": "code",
      "metadata": {
        "id": "YJHVSM2_Orng",
        "colab_type": "code",
        "colab": {}
      },
      "source": [
        ""
      ],
      "execution_count": 0,
      "outputs": []
    },
    {
      "cell_type": "code",
      "metadata": {
        "id": "yfFCcOZqGI17",
        "colab_type": "code",
        "colab": {}
      },
      "source": [
        "import os\n",
        "os.chdir('/content/gdrive/My Drive/ML-project/data')"
      ],
      "execution_count": 0,
      "outputs": []
    },
    {
      "cell_type": "code",
      "metadata": {
        "id": "LyAWvOVadKFy",
        "colab_type": "code",
        "outputId": "dde03de7-4840-46d0-99fc-547214746cae",
        "colab": {
          "base_uri": "https://localhost:8080/",
          "height": 173
        }
      },
      "source": [
        "import numpy as np # linear algebra\n",
        "import pandas as pd # data processing, CSV file I/O (e.g. pd.read_csv)\n",
        "import matplotlib.pyplot as plt\n",
        "# from sklearn.preprocessing import train_test_split as split\n",
        "import seaborn as sns\n",
        "\n",
        "\n",
        "!ls"
      ],
      "execution_count": 3,
      "outputs": [
        {
          "output_type": "stream",
          "text": [
            "/usr/local/lib/python3.6/dist-packages/statsmodels/tools/_testing.py:19: FutureWarning: pandas.util.testing is deprecated. Use the functions in the public API at pandas.testing instead.\n",
            "  import pandas.util.testing as tm\n"
          ],
          "name": "stderr"
        },
        {
          "output_type": "stream",
          "text": [
            "build\t\t       shops.csv\t\t      test.csv\n",
            "item_categories.csv    spark-2.4.5-bin-hadoop2.7      trainset_with_grid.csv\n",
            "items.csv\t       spark-2.4.5-bin-hadoop2.7.tgz  xgb_submission.csv\n",
            "LightGBM\t       submission_modparams1.csv      xgb_test.pickle\n",
            "sales_train.csv        submission_modparams1.gsheet   xgb_train.pickle\n",
            "sample_submission.csv  submission_trial.csv\n"
          ],
          "name": "stdout"
        }
      ]
    },
    {
      "cell_type": "code",
      "metadata": {
        "id": "YWvNddLHNuRw",
        "colab_type": "code",
        "colab": {}
      },
      "source": [
        "train_path = \"sales_train.csv\"\n",
        "test_path = \"test.csv\"\n",
        "items_path = \"items.csv\"\n",
        "shops_path = \"shops.csv\"\n",
        "item_cat_path = \"item_categories.csv\""
      ],
      "execution_count": 0,
      "outputs": []
    },
    {
      "cell_type": "code",
      "metadata": {
        "id": "I07CYd2GOSL8",
        "colab_type": "code",
        "colab": {}
      },
      "source": [
        "items = pd.read_csv(items_path)\n",
        "cats = pd.read_csv(item_cat_path)\n",
        "shops = pd.read_csv(shops_path)\n",
        "train = pd.read_csv( train_path )\n",
        "test = pd.read_csv( test_path )"
      ],
      "execution_count": 0,
      "outputs": []
    },
    {
      "cell_type": "code",
      "metadata": {
        "id": "PhhYuIqVOiTg",
        "colab_type": "code",
        "outputId": "7813edff-d679-48fd-edc1-4ff94107e799",
        "colab": {
          "base_uri": "https://localhost:8080/",
          "height": 628
        }
      },
      "source": [
        "#remove outliers\n",
        "plt.figure(figsize = (10,4))\n",
        "plt.xlim(-100, 3000)\n",
        "sns.boxplot( x= train.item_cnt_day )\n",
        "plt.figure( figsize = (10,4) )\n",
        "plt.xlim(train.item_price.min(), train.item_price.max())\n",
        "sns.boxplot( x = train.item_price )\n",
        "plt.show()\n",
        "\n",
        "print(train.shape[0])\n",
        "print(len( train[train.item_cnt_day >999 ] ))\n",
        "print( len(train[ train.item_cnt_day > 500  ]) )\n",
        "print(len(train[train.item_price >100000 ]))\n",
        "train = train[(train.item_price < 100000 )& (train.item_cnt_day < 1000)]\n",
        "print(train.shape[0])"
      ],
      "execution_count": 6,
      "outputs": [
        {
          "output_type": "display_data",
          "data": {
            "image/png": "[encoded data removed]",
            "text/plain": [
              "<Figure size 720x288 with 1 Axes>"
            ]
          },
          "metadata": {
            "tags": [],
            "needs_background": "light"
          }
        },
        {
          "output_type": "display_data",
          "data": {
            "image/png": "[encoded data removed]",
            "text/plain": [
              "<Figure size 720x288 with 1 Axes>"
            ]
          },
          "metadata": {
            "tags": [],
            "needs_background": "light"
          }
        },
        {
          "output_type": "stream",
          "text": [
            "2935849\n",
            "2\n",
            "12\n",
            "1\n",
            "2935846\n"
          ],
          "name": "stdout"
        }
      ]
    },
    {
      "cell_type": "code",
      "metadata": {
        "id": "8G3U0prIPXvC",
        "colab_type": "code",
        "outputId": "6aa0e393-29a6-4d2f-e8f1-e8ae82bfbde0",
        "colab": {
          "base_uri": "https://localhost:8080/",
          "height": 34
        }
      },
      "source": [
        "#remove items with price < 0 and set items with count less that 1 to 0\n",
        "train = train[train.item_price > 0].reset_index(drop = True)\n",
        "train.loc[train.item_cnt_day < 1, \"item_cnt_day\"] = 0\n",
        "print(train.shape)"
      ],
      "execution_count": 7,
      "outputs": [
        {
          "output_type": "stream",
          "text": [
            "(2935845, 6)\n"
          ],
          "name": "stdout"
        }
      ]
    },
    {
      "cell_type": "code",
      "metadata": {
        "id": "trFKOnnDQ5-D",
        "colab_type": "code",
        "colab": {}
      },
      "source": [
        "train.loc[train.shop_id == 0, \"shop_id\"] = 57\n",
        "test.loc[test.shop_id == 0 , \"shop_id\"] = 57\n",
        "train.loc[train.shop_id == 1, \"shop_id\"] = 58\n",
        "test.loc[test.shop_id == 1 , \"shop_id\"] = 58\n",
        "train.loc[train.shop_id == 11, \"shop_id\"] = 10\n",
        "test.loc[test.shop_id == 11, \"shop_id\"] = 10\n",
        "train.loc[train.shop_id == 40, \"shop_id\"] = 39\n",
        "test.loc[test.shop_id == 40, \"shop_id\"] = 39"
      ],
      "execution_count": 0,
      "outputs": []
    },
    {
      "cell_type": "code",
      "metadata": {
        "id": "aOBLaG_GQ-Ha",
        "colab_type": "code",
        "outputId": "c7a04825-d793-4d0c-bf28-ecb542c7dfde",
        "colab": {
          "base_uri": "https://localhost:8080/",
          "height": 323
        }
      },
      "source": [
        "shops.loc[ shops.shop_name == 'Сергиев Посад ТЦ \"7Я\"',\"shop_name\" ] = 'СергиевПосад ТЦ \"7Я\"'\n",
        "shops[\"city\"] = shops.shop_name.str.split(\" \").map( lambda x: x[0] )\n",
        "shops[\"category\"] = shops.shop_name.str.split(\" \").map( lambda x: x[1] )\n",
        "shops.loc[shops.city == \"!Якутск\", \"city\"] = \"Якутск\"\n",
        "category = []\n",
        "for cat in shops.category.unique():\n",
        "    print(cat, len(shops[shops.category == cat]) )\n",
        "    if len(shops[shops.category == cat]) > 4:\n",
        "        category.append(cat)\n",
        "shops.category = shops.category.apply( lambda x: x if (x in category) else \"etc\" )\n",
        "for cat in shops.category.unique():\n",
        "    print(cat, len(shops[shops.category == cat]) )"
      ],
      "execution_count": 9,
      "outputs": [
        {
          "output_type": "stream",
          "text": [
            "Орджоникидзе, 2\n",
            "ТЦ 28\n",
            "ТРК 5\n",
            "ТРЦ 11\n",
            "(Плехановская, 1\n",
            "Торговля 1\n",
            "ул. 2\n",
            "ЧС 1\n",
            "\"Распродажа\" 1\n",
            "МТРЦ 1\n",
            "Магазин 1\n",
            "ТК 5\n",
            "склад 1\n",
            "etc 11\n",
            "ТЦ 28\n",
            "ТРК 5\n",
            "ТРЦ 11\n",
            "ТК 5\n"
          ],
          "name": "stdout"
        }
      ]
    },
    {
      "cell_type": "code",
      "metadata": {
        "id": "FE2c2ORNRUDf",
        "colab_type": "code",
        "colab": {}
      },
      "source": [
        "from sklearn.preprocessing import LabelEncoder\n",
        "shops[\"shop_category\"] = LabelEncoder().fit_transform( shops.category )\n",
        "shops[\"shop_city\"] = LabelEncoder().fit_transform( shops.city )\n",
        "shops = shops[[\"shop_id\", \"shop_category\", \"shop_city\"]]"
      ],
      "execution_count": 0,
      "outputs": []
    },
    {
      "cell_type": "code",
      "metadata": {
        "id": "4MgKOi4cRYZb",
        "colab_type": "code",
        "outputId": "892748db-92b3-4bc3-f844-56ed57fa4b1a",
        "colab": {
          "base_uri": "https://localhost:8080/",
          "height": 442
        }
      },
      "source": [
        "cats[\"type_code\"] = cats.item_category_name.apply( lambda x: x.split(\" \")[0] ).astype(str)\n",
        "cats.loc[ (cats.type_code == \"Игровые\")| (cats.type_code == \"Аксессуары\"), \"category\" ] = \"Игры\"\n",
        "cats.shape\n",
        "category = []\n",
        "for cat in cats.type_code.unique():\n",
        "    print(cat, len(cats[cats.type_code == cat]))\n",
        "    if len(cats[cats.type_code == cat]) > 4: \n",
        "        category.append( cat )\n",
        "cats.type_code = cats.type_code.apply(lambda x: x if (x in category) else \"etc\")\n",
        "for cat in cats.type_code.unique():\n",
        "    print(cat, len(cats[cats.type_code == cat]))"
      ],
      "execution_count": 11,
      "outputs": [
        {
          "output_type": "stream",
          "text": [
            "PC 1\n",
            "Аксессуары 7\n",
            "Билеты 1\n",
            "Доставка 1\n",
            "Игровые 8\n",
            "Игры 14\n",
            "Карты 5\n",
            "Кино 5\n",
            "Книги 13\n",
            "Музыка 6\n",
            "Подарки 12\n",
            "Программы 6\n",
            "Служебные 2\n",
            "Чистые 2\n",
            "Элементы 1\n",
            "etc 8\n",
            "Аксессуары 7\n",
            "Игровые 8\n",
            "Игры 14\n",
            "Карты 5\n",
            "Кино 5\n",
            "Книги 13\n",
            "Музыка 6\n",
            "Подарки 12\n",
            "Программы 6\n"
          ],
          "name": "stdout"
        }
      ]
    },
    {
      "cell_type": "code",
      "metadata": {
        "id": "lvWelrd-RsLr",
        "colab_type": "code",
        "colab": {}
      },
      "source": [
        "cats.type_code = LabelEncoder().fit_transform(cats.type_code)\n",
        "cats[\"split\"] = cats.item_category_name.apply(lambda x: x.split(\"-\"))\n",
        "cats[\"subtype\"] = cats.split.apply(lambda x: x[1].strip() if len(x) > 1 else x[0].strip())\n",
        "cats[\"subtype_code\"] = LabelEncoder().fit_transform( cats[\"subtype\"] )\n",
        "cats = cats[[\"item_category_id\", \"subtype_code\", \"type_code\"]]"
      ],
      "execution_count": 0,
      "outputs": []
    },
    {
      "cell_type": "code",
      "metadata": {
        "id": "41nGFs1gRwpJ",
        "colab_type": "code",
        "colab": {}
      },
      "source": [
        "import re\n",
        "def name_correction(x):\n",
        "    x = x.lower()\n",
        "    x = x.partition('[')[0]\n",
        "    x = x.partition('(')[0]\n",
        "    x = re.sub('[^A-Za-z0-9А-Яа-я]+', ' ', x)\n",
        "    x = x.replace('  ', ' ')\n",
        "    x = x.strip()\n",
        "    return x"
      ],
      "execution_count": 0,
      "outputs": []
    },
    {
      "cell_type": "code",
      "metadata": {
        "id": "p7Dot2ByRx8-",
        "colab_type": "code",
        "outputId": "d0b25b2f-9795-44c2-bcfa-c6fc9f32cf78",
        "colab": {
          "base_uri": "https://localhost:8080/",
          "height": 105
        }
      },
      "source": [
        "items = pd.read_csv(items_path)\n",
        "\n",
        "items[\"name1\"], items[\"name2\"] = items.item_name.str.split(\"[\", 1).str\n",
        "items[\"name1\"], items[\"name3\"] = items.item_name.str.split(\"(\", 1).str\n",
        "\n",
        "items[\"name2\"] = items.name2.str.replace('[^A-Za-z0-9А-Яа-я]+', \" \").str.lower()\n",
        "items[\"name3\"] = items.name3.str.replace('[^A-Za-z0-9А-Яа-я]+', \" \").str.lower()\n",
        "items = items.fillna('0')\n",
        "\n",
        "items[\"item_name\"] = items[\"item_name\"].apply(lambda x: name_correction(x))\n",
        "items.name2 = items.name2.apply( lambda x: x[:-1] if x !=\"0\" else \"0\")"
      ],
      "execution_count": 14,
      "outputs": [
        {
          "output_type": "stream",
          "text": [
            "/usr/local/lib/python3.6/dist-packages/ipykernel_launcher.py:3: FutureWarning: Columnar iteration over characters will be deprecated in future releases.\n",
            "  This is separate from the ipykernel package so we can avoid doing imports until\n",
            "/usr/local/lib/python3.6/dist-packages/ipykernel_launcher.py:4: FutureWarning: Columnar iteration over characters will be deprecated in future releases.\n",
            "  after removing the cwd from sys.path.\n"
          ],
          "name": "stderr"
        }
      ]
    },
    {
      "cell_type": "code",
      "metadata": {
        "id": "MjGWDzYGR1BV",
        "colab_type": "code",
        "colab": {}
      },
      "source": [
        "items[\"type\"] = items.name2.apply(lambda x: x[0:8] if x.split(\" \")[0] == \"xbox\" else x.split(\" \")[0] )\n",
        "items.loc[(items.type == \"x360\") | (items.type == \"xbox360\") | (items.type == \"xbox 360\") ,\"type\"] = \"xbox 360\"\n",
        "items.loc[ items.type == \"\", \"type\"] = \"mac\"\n",
        "items.type = items.type.apply( lambda x: x.replace(\" \", \"\") )\n",
        "items.loc[ (items.type == 'pc' )| (items.type == 'pс') | (items.type == \"pc\"), \"type\" ] = \"pc\"\n",
        "items.loc[ items.type == 'рs3' , \"type\"] = \"ps3\""
      ],
      "execution_count": 0,
      "outputs": []
    },
    {
      "cell_type": "code",
      "metadata": {
        "id": "gcyuD_evR5aT",
        "colab_type": "code",
        "outputId": "6fd09df0-b31c-4517-e00d-f52097212bad",
        "colab": {
          "base_uri": "https://localhost:8080/",
          "height": 544
        }
      },
      "source": [
        "group_sum = items.groupby([\"type\"]).agg({\"item_id\": \"count\"})\n",
        "print( group_sum.reset_index() )\n",
        "group_sum = group_sum.reset_index()"
      ],
      "execution_count": 16,
      "outputs": [
        {
          "output_type": "stream",
          "text": [
            "        type  item_id\n",
            "0          0    17661\n",
            "1        5c5        1\n",
            "2        5c7        2\n",
            "3        5f4        1\n",
            "4        6dv        1\n",
            "5        6jv        1\n",
            "6        6l6        1\n",
            "7    android        3\n",
            "8        hm3        1\n",
            "9        j72        4\n",
            "10       kf6        1\n",
            "11       kf7        1\n",
            "12       kg4        1\n",
            "13       mac       43\n",
            "14        pc     2628\n",
            "15        ps       79\n",
            "16       ps2        2\n",
            "17       ps3      611\n",
            "18       ps4      174\n",
            "19       psp      115\n",
            "20       s3v        1\n",
            "21       s4v        1\n",
            "22   xbox360      466\n",
            "23   xboxone      123\n",
            "24      англ        1\n",
            "25        рс       14\n",
            "26   русская        1\n",
            "27    только        9\n",
            "28     цифро        1\n",
            "29  цифровая      222\n"
          ],
          "name": "stdout"
        }
      ]
    },
    {
      "cell_type": "code",
      "metadata": {
        "id": "k76mM0LgR8qV",
        "colab_type": "code",
        "outputId": "e13c0e97-e877-44ea-add6-85a69b1def5d",
        "colab": {
          "base_uri": "https://localhost:8080/",
          "height": 357
        }
      },
      "source": [
        "drop_cols = []\n",
        "for cat in group_sum.type.unique():\n",
        "#     print(group_sum.loc[(group_sum.type == cat), \"item_id\"].values[0])\n",
        "    if group_sum.loc[(group_sum.type == cat), \"item_id\"].values[0] <40:\n",
        "        drop_cols.append(cat)\n",
        "drop_cols"
      ],
      "execution_count": 17,
      "outputs": [
        {
          "output_type": "execute_result",
          "data": {
            "text/plain": [
              "['5c5',\n",
              " '5c7',\n",
              " '5f4',\n",
              " '6dv',\n",
              " '6jv',\n",
              " '6l6',\n",
              " 'android',\n",
              " 'hm3',\n",
              " 'j72',\n",
              " 'kf6',\n",
              " 'kf7',\n",
              " 'kg4',\n",
              " 'ps2',\n",
              " 's3v',\n",
              " 's4v',\n",
              " 'англ',\n",
              " 'рс',\n",
              " 'русская',\n",
              " 'только',\n",
              " 'цифро']"
            ]
          },
          "metadata": {
            "tags": []
          },
          "execution_count": 17
        }
      ]
    },
    {
      "cell_type": "code",
      "metadata": {
        "id": "a0tY083pSF2V",
        "colab_type": "code",
        "outputId": "c3ee9d89-5695-46dc-e7d8-3c7eb0cfb24e",
        "colab": {
          "base_uri": "https://localhost:8080/",
          "height": 204
        }
      },
      "source": [
        "items.name2 = items.name2.apply( lambda x: \"etc\" if (x in drop_cols) else x )\n",
        "items = items.drop([\"type\"], axis = 1)\n",
        "items.name2 = LabelEncoder().fit_transform(items.name2)\n",
        "items.name3 = LabelEncoder().fit_transform(items.name3)\n",
        "\n",
        "items.drop([\"item_name\", \"name1\"],axis = 1, inplace= True)\n",
        "items.head()"
      ],
      "execution_count": 18,
      "outputs": [
        {
          "output_type": "execute_result",
          "data": {
            "text/html": [
              "<div>\n",
              "<style scoped>\n",
              "    .dataframe tbody tr th:only-of-type {\n",
              "        vertical-align: middle;\n",
              "    }\n",
              "\n",
              "    .dataframe tbody tr th {\n",
              "        vertical-align: top;\n",
              "    }\n",
              "\n",
              "    .dataframe thead th {\n",
              "        text-align: right;\n",
              "    }\n",
              "</style>\n",
              "<table border=\"1\" class=\"dataframe\">\n",
              "  <thead>\n",
              "    <tr style=\"text-align: right;\">\n",
              "      <th></th>\n",
              "      <th>item_id</th>\n",
              "      <th>item_category_id</th>\n",
              "      <th>name2</th>\n",
              "      <th>name3</th>\n",
              "    </tr>\n",
              "  </thead>\n",
              "  <tbody>\n",
              "    <tr>\n",
              "      <th>0</th>\n",
              "      <td>0</td>\n",
              "      <td>40</td>\n",
              "      <td>4</td>\n",
              "      <td>1331</td>\n",
              "    </tr>\n",
              "    <tr>\n",
              "      <th>1</th>\n",
              "      <td>1</td>\n",
              "      <td>76</td>\n",
              "      <td>64</td>\n",
              "      <td>42</td>\n",
              "    </tr>\n",
              "    <tr>\n",
              "      <th>2</th>\n",
              "      <td>2</td>\n",
              "      <td>40</td>\n",
              "      <td>4</td>\n",
              "      <td>1011</td>\n",
              "    </tr>\n",
              "    <tr>\n",
              "      <th>3</th>\n",
              "      <td>3</td>\n",
              "      <td>40</td>\n",
              "      <td>4</td>\n",
              "      <td>1010</td>\n",
              "    </tr>\n",
              "    <tr>\n",
              "      <th>4</th>\n",
              "      <td>4</td>\n",
              "      <td>40</td>\n",
              "      <td>4</td>\n",
              "      <td>1572</td>\n",
              "    </tr>\n",
              "  </tbody>\n",
              "</table>\n",
              "</div>"
            ],
            "text/plain": [
              "   item_id  item_category_id  name2  name3\n",
              "0        0                40      4   1331\n",
              "1        1                76     64     42\n",
              "2        2                40      4   1011\n",
              "3        3                40      4   1010\n",
              "4        4                40      4   1572"
            ]
          },
          "metadata": {
            "tags": []
          },
          "execution_count": 18
        }
      ]
    },
    {
      "cell_type": "code",
      "metadata": {
        "id": "fvqPgAxXSMEc",
        "colab_type": "code",
        "outputId": "586944e7-359d-4791-dace-f8ed8f145b83",
        "colab": {
          "base_uri": "https://localhost:8080/",
          "height": 34
        }
      },
      "source": [
        "from itertools import product\n",
        "import time\n",
        "ts = time.time()\n",
        "matrix = []\n",
        "cols  = [\"date_block_num\", \"shop_id\", \"item_id\"]\n",
        "for i in range(34):\n",
        "    sales = train[train.date_block_num == i]\n",
        "    matrix.append( np.array(list( product( [i], sales.shop_id.unique(), sales.item_id.unique() ) ), dtype = np.int16) )\n",
        "\n",
        "matrix = pd.DataFrame( np.vstack(matrix), columns = cols )\n",
        "matrix[\"date_block_num\"] = matrix[\"date_block_num\"].astype(np.int8)\n",
        "matrix[\"shop_id\"] = matrix[\"shop_id\"].astype(np.int8)\n",
        "matrix[\"item_id\"] = matrix[\"item_id\"].astype(np.int16)\n",
        "matrix.sort_values( cols, inplace = True )\n",
        "time.time()- ts"
      ],
      "execution_count": 19,
      "outputs": [
        {
          "output_type": "execute_result",
          "data": {
            "text/plain": [
              "11.684714794158936"
            ]
          },
          "metadata": {
            "tags": []
          },
          "execution_count": 19
        }
      ]
    },
    {
      "cell_type": "code",
      "metadata": {
        "id": "bHAud9U2SSf7",
        "colab_type": "code",
        "colab": {}
      },
      "source": [
        "train[\"revenue\"] = train[\"item_cnt_day\"] * train[\"item_price\"]"
      ],
      "execution_count": 0,
      "outputs": []
    },
    {
      "cell_type": "code",
      "metadata": {
        "id": "XPVjPNs5SVED",
        "colab_type": "code",
        "outputId": "2e8bb8c3-72f5-4eb8-a0cc-e039f7fdb719",
        "colab": {
          "base_uri": "https://localhost:8080/",
          "height": 34
        }
      },
      "source": [
        "ts = time.time()\n",
        "group = train.groupby( [\"date_block_num\", \"shop_id\", \"item_id\"] ).agg( {\"item_cnt_day\": [\"sum\"]} )\n",
        "group.columns = [\"item_cnt_month\"]\n",
        "group.reset_index( inplace = True)\n",
        "matrix = pd.merge( matrix, group, on = cols, how = \"left\" )\n",
        "matrix[\"item_cnt_month\"] = matrix[\"item_cnt_month\"].fillna(0).clip(0,20).astype(np.float16)\n",
        "time.time() - ts"
      ],
      "execution_count": 21,
      "outputs": [
        {
          "output_type": "execute_result",
          "data": {
            "text/plain": [
              "5.888008117675781"
            ]
          },
          "metadata": {
            "tags": []
          },
          "execution_count": 21
        }
      ]
    },
    {
      "cell_type": "code",
      "metadata": {
        "id": "CaIhhKc8SX2b",
        "colab_type": "code",
        "outputId": "8bf44450-6fe4-41d1-b2af-78f158ea6bee",
        "colab": {
          "base_uri": "https://localhost:8080/",
          "height": 34
        }
      },
      "source": [
        "test[\"date_block_num\"] = 34\n",
        "test[\"date_block_num\"] = test[\"date_block_num\"].astype(np.int8)\n",
        "test[\"shop_id\"] = test.shop_id.astype(np.int8)\n",
        "test[\"item_id\"] = test.item_id.astype(np.int16)\n",
        "ts = time.time()\n",
        "\n",
        "matrix = pd.concat([matrix, test.drop([\"ID\"],axis = 1)], ignore_index=True, sort=False, keys=cols)\n",
        "matrix.fillna( 0, inplace = True )\n",
        "time.time() - ts"
      ],
      "execution_count": 22,
      "outputs": [
        {
          "output_type": "execute_result",
          "data": {
            "text/plain": [
              "0.08526229858398438"
            ]
          },
          "metadata": {
            "tags": []
          },
          "execution_count": 22
        }
      ]
    },
    {
      "cell_type": "code",
      "metadata": {
        "id": "iv-XFjgrSdul",
        "colab_type": "code",
        "outputId": "65918ab6-e72b-4895-cbf6-cc6f9ee2d9ed",
        "colab": {
          "base_uri": "https://localhost:8080/",
          "height": 34
        }
      },
      "source": [
        "ts = time.time()\n",
        "matrix = pd.merge( matrix, shops, on = [\"shop_id\"], how = \"left\" )\n",
        "matrix = pd.merge(matrix, items, on = [\"item_id\"], how = \"left\")\n",
        "matrix = pd.merge( matrix, cats, on = [\"item_category_id\"], how = \"left\" )\n",
        "matrix[\"shop_city\"] = matrix[\"shop_city\"].astype(np.int8)\n",
        "matrix[\"shop_category\"] = matrix[\"shop_category\"].astype(np.int8)\n",
        "matrix[\"item_category_id\"] = matrix[\"item_category_id\"].astype(np.int8)\n",
        "matrix[\"subtype_code\"] = matrix[\"subtype_code\"].astype(np.int8)\n",
        "matrix[\"name2\"] = matrix[\"name2\"].astype(np.int8)\n",
        "matrix[\"name3\"] = matrix[\"name3\"].astype(np.int16)\n",
        "matrix[\"type_code\"] = matrix[\"type_code\"].astype(np.int8)\n",
        "time.time() - ts"
      ],
      "execution_count": 23,
      "outputs": [
        {
          "output_type": "execute_result",
          "data": {
            "text/plain": [
              "4.20747447013855"
            ]
          },
          "metadata": {
            "tags": []
          },
          "execution_count": 23
        }
      ]
    },
    {
      "cell_type": "code",
      "metadata": {
        "id": "kCYaDaHxSg1v",
        "colab_type": "code",
        "colab": {}
      },
      "source": [
        "def lag_feature( df,lags, cols ):\n",
        "    for col in cols:\n",
        "        print(col)\n",
        "        tmp = df[[\"date_block_num\", \"shop_id\",\"item_id\",col ]]\n",
        "        for i in lags:\n",
        "            shifted = tmp.copy()\n",
        "            shifted.columns = [\"date_block_num\", \"shop_id\", \"item_id\", col + \"_lag_\"+str(i)]\n",
        "            shifted.date_block_num = shifted.date_block_num + i\n",
        "            df = pd.merge(df, shifted, on=['date_block_num','shop_id','item_id'], how='left')\n",
        "    return df"
      ],
      "execution_count": 0,
      "outputs": []
    },
    {
      "cell_type": "code",
      "metadata": {
        "id": "tee9UGe8Sjba",
        "colab_type": "code",
        "outputId": "3bb61132-9561-464f-d1ab-d257b68cf575",
        "colab": {
          "base_uri": "https://localhost:8080/",
          "height": 51
        }
      },
      "source": [
        "ts = time.time()\n",
        "\n",
        "matrix = lag_feature( matrix, [1,2,3], [\"item_cnt_month\"] )\n",
        "time.time() - ts"
      ],
      "execution_count": 25,
      "outputs": [
        {
          "output_type": "stream",
          "text": [
            "item_cnt_month\n"
          ],
          "name": "stdout"
        },
        {
          "output_type": "execute_result",
          "data": {
            "text/plain": [
              "21.949529886245728"
            ]
          },
          "metadata": {
            "tags": []
          },
          "execution_count": 25
        }
      ]
    },
    {
      "cell_type": "code",
      "metadata": {
        "id": "Hos6Cvb0SpbK",
        "colab_type": "code",
        "outputId": "62d3d756-a0d1-4637-94c9-3e865f03021c",
        "colab": {
          "base_uri": "https://localhost:8080/",
          "height": 51
        }
      },
      "source": [
        "ts = time.time()\n",
        "group = matrix.groupby( [\"date_block_num\"] ).agg({\"item_cnt_month\" : [\"mean\"]})\n",
        "group.columns = [\"date_avg_item_cnt\"]\n",
        "group.reset_index(inplace = True)\n",
        "\n",
        "matrix = pd.merge(matrix, group, on = [\"date_block_num\"], how = \"left\")\n",
        "matrix.date_avg_item_cnt = matrix[\"date_avg_item_cnt\"].astype(np.float16)\n",
        "matrix = lag_feature( matrix, [1], [\"date_avg_item_cnt\"] )\n",
        "matrix.drop( [\"date_avg_item_cnt\"], axis = 1, inplace = True )\n",
        "time.time() - ts"
      ],
      "execution_count": 26,
      "outputs": [
        {
          "output_type": "stream",
          "text": [
            "date_avg_item_cnt\n"
          ],
          "name": "stdout"
        },
        {
          "output_type": "execute_result",
          "data": {
            "text/plain": [
              "10.53590989112854"
            ]
          },
          "metadata": {
            "tags": []
          },
          "execution_count": 26
        }
      ]
    },
    {
      "cell_type": "code",
      "metadata": {
        "id": "JMRgUG4WSuMZ",
        "colab_type": "code",
        "outputId": "ee5ac0a9-cba8-4056-c63e-8d2b9f2fa6d4",
        "colab": {
          "base_uri": "https://localhost:8080/",
          "height": 51
        }
      },
      "source": [
        "ts = time.time()\n",
        "group = matrix.groupby(['date_block_num', 'item_id']).agg({'item_cnt_month': ['mean']})\n",
        "group.columns = [ 'date_item_avg_item_cnt' ]\n",
        "group.reset_index(inplace=True)\n",
        "\n",
        "matrix = pd.merge(matrix, group, on=['date_block_num','item_id'], how='left')\n",
        "matrix.date_item_avg_item_cnt = matrix['date_item_avg_item_cnt'].astype(np.float16)\n",
        "matrix = lag_feature(matrix, [1,2,3], ['date_item_avg_item_cnt'])\n",
        "matrix.drop(['date_item_avg_item_cnt'], axis=1, inplace=True)\n",
        "time.time() - ts"
      ],
      "execution_count": 27,
      "outputs": [
        {
          "output_type": "stream",
          "text": [
            "date_item_avg_item_cnt\n"
          ],
          "name": "stdout"
        },
        {
          "output_type": "execute_result",
          "data": {
            "text/plain": [
              "26.090733289718628"
            ]
          },
          "metadata": {
            "tags": []
          },
          "execution_count": 27
        }
      ]
    },
    {
      "cell_type": "code",
      "metadata": {
        "id": "tf9KSKoyS1tM",
        "colab_type": "code",
        "outputId": "2098b24a-8529-44b8-cab5-bfbc800df67a",
        "colab": {
          "base_uri": "https://localhost:8080/",
          "height": 105
        }
      },
      "source": [
        "ts = time.time()\n",
        "group = matrix.groupby( [\"date_block_num\",\"shop_id\"] ).agg({\"item_cnt_month\" : [\"mean\"]})\n",
        "group.columns = [\"date_shop_avg_item_cnt\"]\n",
        "group.reset_index(inplace = True)\n",
        "\n",
        "matrix = pd.merge(matrix, group, on = [\"date_block_num\",\"shop_id\"], how = \"left\")\n",
        "matrix.date_avg_item_cnt = matrix[\"date_shop_avg_item_cnt\"].astype(np.float16)\n",
        "matrix = lag_feature( matrix, [1,2,3], [\"date_shop_avg_item_cnt\"] )\n",
        "matrix.drop( [\"date_shop_avg_item_cnt\"], axis = 1, inplace = True )\n",
        "time.time() - ts"
      ],
      "execution_count": 28,
      "outputs": [
        {
          "output_type": "stream",
          "text": [
            "/usr/local/lib/python3.6/dist-packages/ipykernel_launcher.py:7: UserWarning: Pandas doesn't allow columns to be created via a new attribute name - see https://pandas.pydata.org/pandas-docs/stable/indexing.html#attribute-access\n",
            "  import sys\n"
          ],
          "name": "stderr"
        },
        {
          "output_type": "stream",
          "text": [
            "date_shop_avg_item_cnt\n"
          ],
          "name": "stdout"
        },
        {
          "output_type": "execute_result",
          "data": {
            "text/plain": [
              "26.35098099708557"
            ]
          },
          "metadata": {
            "tags": []
          },
          "execution_count": 28
        }
      ]
    },
    {
      "cell_type": "code",
      "metadata": {
        "id": "rxey-dgFS8y4",
        "colab_type": "code",
        "outputId": "22ccfd5d-c99b-465a-9898-d0065d7a0c65",
        "colab": {
          "base_uri": "https://localhost:8080/",
          "height": 105
        }
      },
      "source": [
        "ts = time.time()\n",
        "group = matrix.groupby( [\"date_block_num\",\"shop_id\",\"item_id\"] ).agg({\"item_cnt_month\" : [\"mean\"]})\n",
        "group.columns = [\"date_shop_item_avg_item_cnt\"]\n",
        "group.reset_index(inplace = True)\n",
        "\n",
        "matrix = pd.merge(matrix, group, on = [\"date_block_num\",\"shop_id\",\"item_id\"], how = \"left\")\n",
        "matrix.date_avg_item_cnt = matrix[\"date_shop_item_avg_item_cnt\"].astype(np.float16)\n",
        "matrix = lag_feature( matrix, [1,2,3], [\"date_shop_item_avg_item_cnt\"] )\n",
        "matrix.drop( [\"date_shop_item_avg_item_cnt\"], axis = 1, inplace = True )\n",
        "time.time() - ts"
      ],
      "execution_count": 29,
      "outputs": [
        {
          "output_type": "stream",
          "text": [
            "/usr/local/lib/python3.6/dist-packages/ipykernel_launcher.py:7: UserWarning: Pandas doesn't allow columns to be created via a new attribute name - see https://pandas.pydata.org/pandas-docs/stable/indexing.html#attribute-access\n",
            "  import sys\n"
          ],
          "name": "stderr"
        },
        {
          "output_type": "stream",
          "text": [
            "date_shop_item_avg_item_cnt\n"
          ],
          "name": "stdout"
        },
        {
          "output_type": "execute_result",
          "data": {
            "text/plain": [
              "37.7530415058136"
            ]
          },
          "metadata": {
            "tags": []
          },
          "execution_count": 29
        }
      ]
    },
    {
      "cell_type": "code",
      "metadata": {
        "id": "ugmAxX2nTBkn",
        "colab_type": "code",
        "outputId": "d99b4339-66b1-47a2-941f-1e42fc0c4115",
        "colab": {
          "base_uri": "https://localhost:8080/",
          "height": 51
        }
      },
      "source": [
        "ts = time.time()\n",
        "group = matrix.groupby(['date_block_num', 'shop_id', 'subtype_code']).agg({'item_cnt_month': ['mean']})\n",
        "group.columns = ['date_shop_subtype_avg_item_cnt']\n",
        "group.reset_index(inplace=True)\n",
        "\n",
        "matrix = pd.merge(matrix, group, on=['date_block_num', 'shop_id', 'subtype_code'], how='left')\n",
        "matrix.date_shop_subtype_avg_item_cnt = matrix['date_shop_subtype_avg_item_cnt'].astype(np.float16)\n",
        "matrix = lag_feature(matrix, [1], ['date_shop_subtype_avg_item_cnt'])\n",
        "matrix.drop(['date_shop_subtype_avg_item_cnt'], axis=1, inplace=True)\n",
        "time.time() - ts\n"
      ],
      "execution_count": 30,
      "outputs": [
        {
          "output_type": "stream",
          "text": [
            "date_shop_subtype_avg_item_cnt\n"
          ],
          "name": "stdout"
        },
        {
          "output_type": "execute_result",
          "data": {
            "text/plain": [
              "13.843871593475342"
            ]
          },
          "metadata": {
            "tags": []
          },
          "execution_count": 30
        }
      ]
    },
    {
      "cell_type": "code",
      "metadata": {
        "id": "ByTYRFrQTK9Z",
        "colab_type": "code",
        "outputId": "40d3c000-d7d7-4c02-920f-f06ae22c8e3c",
        "colab": {
          "base_uri": "https://localhost:8080/",
          "height": 51
        }
      },
      "source": [
        "ts = time.time()\n",
        "group = matrix.groupby(['date_block_num', 'shop_city']).agg({'item_cnt_month': ['mean']})\n",
        "group.columns = ['date_city_avg_item_cnt']\n",
        "group.reset_index(inplace=True)\n",
        "\n",
        "matrix = pd.merge(matrix, group, on=['date_block_num', \"shop_city\"], how='left')\n",
        "matrix.date_city_avg_item_cnt = matrix['date_city_avg_item_cnt'].astype(np.float16)\n",
        "matrix = lag_feature(matrix, [1], ['date_city_avg_item_cnt'])\n",
        "matrix.drop(['date_city_avg_item_cnt'], axis=1, inplace=True)\n",
        "time.time() - ts"
      ],
      "execution_count": 31,
      "outputs": [
        {
          "output_type": "stream",
          "text": [
            "date_city_avg_item_cnt\n"
          ],
          "name": "stdout"
        },
        {
          "output_type": "execute_result",
          "data": {
            "text/plain": [
              "13.944461822509766"
            ]
          },
          "metadata": {
            "tags": []
          },
          "execution_count": 31
        }
      ]
    },
    {
      "cell_type": "code",
      "metadata": {
        "id": "F4sJG0ifTPPa",
        "colab_type": "code",
        "outputId": "631f5cb5-4366-4bfb-cc77-20bf0ea3f9d9",
        "colab": {
          "base_uri": "https://localhost:8080/",
          "height": 51
        }
      },
      "source": [
        "ts = time.time()\n",
        "group = matrix.groupby(['date_block_num', 'item_id', 'shop_city']).agg({'item_cnt_month': ['mean']})\n",
        "group.columns = [ 'date_item_city_avg_item_cnt' ]\n",
        "group.reset_index(inplace=True)\n",
        "\n",
        "matrix = pd.merge(matrix, group, on=['date_block_num', 'item_id', 'shop_city'], how='left')\n",
        "matrix.date_item_city_avg_item_cnt = matrix['date_item_city_avg_item_cnt'].astype(np.float16)\n",
        "matrix = lag_feature(matrix, [1], ['date_item_city_avg_item_cnt'])\n",
        "matrix.drop(['date_item_city_avg_item_cnt'], axis=1, inplace=True)\n",
        "time.time() - ts"
      ],
      "execution_count": 32,
      "outputs": [
        {
          "output_type": "stream",
          "text": [
            "date_item_city_avg_item_cnt\n"
          ],
          "name": "stdout"
        },
        {
          "output_type": "execute_result",
          "data": {
            "text/plain": [
              "21.840830326080322"
            ]
          },
          "metadata": {
            "tags": []
          },
          "execution_count": 32
        }
      ]
    },
    {
      "cell_type": "code",
      "metadata": {
        "id": "_1CUnRA-TSrt",
        "colab_type": "code",
        "outputId": "dfa6d022-3bad-4917-da27-494d66e94bf3",
        "colab": {
          "base_uri": "https://localhost:8080/",
          "height": 51
        }
      },
      "source": [
        "ts = time.time()\n",
        "group = train.groupby( [\"item_id\"] ).agg({\"item_price\": [\"mean\"]})\n",
        "group.columns = [\"item_avg_item_price\"]\n",
        "group.reset_index(inplace = True)\n",
        "\n",
        "matrix = matrix.merge( group, on = [\"item_id\"], how = \"left\" )\n",
        "matrix[\"item_avg_item_price\"] = matrix.item_avg_item_price.astype(np.float16)\n",
        "\n",
        "\n",
        "group = train.groupby( [\"date_block_num\",\"item_id\"] ).agg( {\"item_price\": [\"mean\"]} )\n",
        "group.columns = [\"date_item_avg_item_price\"]\n",
        "group.reset_index(inplace = True)\n",
        "\n",
        "matrix = matrix.merge(group, on = [\"date_block_num\",\"item_id\"], how = \"left\")\n",
        "matrix[\"date_item_avg_item_price\"] = matrix.date_item_avg_item_price.astype(np.float16)\n",
        "lags = [1, 2, 3]\n",
        "matrix = lag_feature( matrix, lags, [\"date_item_avg_item_price\"] )\n",
        "for i in lags:\n",
        "    matrix[\"delta_price_lag_\" + str(i) ] = (matrix[\"date_item_avg_item_price_lag_\" + str(i)]- matrix[\"item_avg_item_price\"] )/ matrix[\"item_avg_item_price\"]\n",
        "\n",
        "def select_trends(row) :\n",
        "    for i in lags:\n",
        "        if row[\"delta_price_lag_\" + str(i)]:\n",
        "            return row[\"delta_price_lag_\" + str(i)]\n",
        "    return 0\n",
        "\n",
        "matrix[\"delta_price_lag\"] = matrix.apply(select_trends, axis = 1)\n",
        "matrix[\"delta_price_lag\"] = matrix.delta_price_lag.astype( np.float16 )\n",
        "matrix[\"delta_price_lag\"].fillna( 0 ,inplace = True)\n",
        "\n",
        "features_to_drop = [\"item_avg_item_price\", \"date_item_avg_item_price\"]\n",
        "for i in lags:\n",
        "    features_to_drop.append(\"date_item_avg_item_price_lag_\" + str(i) )\n",
        "    features_to_drop.append(\"delta_price_lag_\" + str(i) )\n",
        "matrix.drop(features_to_drop, axis = 1, inplace = True)\n",
        "time.time() - ts"
      ],
      "execution_count": 33,
      "outputs": [
        {
          "output_type": "stream",
          "text": [
            "date_item_avg_item_price\n"
          ],
          "name": "stdout"
        },
        {
          "output_type": "execute_result",
          "data": {
            "text/plain": [
              "308.81537795066833"
            ]
          },
          "metadata": {
            "tags": []
          },
          "execution_count": 33
        }
      ]
    },
    {
      "cell_type": "code",
      "metadata": {
        "id": "jcCSQccuV-Pr",
        "colab_type": "code",
        "outputId": "e977dba0-1405-4739-87a1-c0969e4a4911",
        "colab": {
          "base_uri": "https://localhost:8080/",
          "height": 51
        }
      },
      "source": [
        "\n",
        "ts = time.time()\n",
        "group = train.groupby( [\"date_block_num\",\"shop_id\"] ).agg({\"revenue\": [\"sum\"] })\n",
        "group.columns = [\"date_shop_revenue\"]\n",
        "group.reset_index(inplace = True)\n",
        "\n",
        "matrix = matrix.merge( group , on = [\"date_block_num\", \"shop_id\"], how = \"left\" )\n",
        "matrix['date_shop_revenue'] = matrix['date_shop_revenue'].astype(np.float32)\n",
        "\n",
        "group = group.groupby([\"shop_id\"]).agg({ \"date_block_num\":[\"mean\"] })\n",
        "group.columns = [\"shop_avg_revenue\"]\n",
        "group.reset_index(inplace = True )\n",
        "\n",
        "matrix = matrix.merge( group, on = [\"shop_id\"], how = \"left\" )\n",
        "matrix[\"shop_avg_revenue\"] = matrix.shop_avg_revenue.astype(np.float32)\n",
        "matrix[\"delta_revenue\"] = (matrix['date_shop_revenue'] - matrix['shop_avg_revenue']) / matrix['shop_avg_revenue']\n",
        "matrix[\"delta_revenue\"] = matrix[\"delta_revenue\"]. astype(np.float32)\n",
        "\n",
        "matrix = lag_feature(matrix, [1], [\"delta_revenue\"])\n",
        "matrix[\"delta_revenue_lag_1\"] = matrix[\"delta_revenue_lag_1\"].astype(np.float32)\n",
        "matrix.drop( [\"date_shop_revenue\", \"shop_avg_revenue\", \"delta_revenue\"] ,axis = 1, inplace = True)\n",
        "time.time() - ts"
      ],
      "execution_count": 34,
      "outputs": [
        {
          "output_type": "stream",
          "text": [
            "delta_revenue\n"
          ],
          "name": "stdout"
        },
        {
          "output_type": "execute_result",
          "data": {
            "text/plain": [
              "16.207764625549316"
            ]
          },
          "metadata": {
            "tags": []
          },
          "execution_count": 34
        }
      ]
    },
    {
      "cell_type": "code",
      "metadata": {
        "id": "QchJu_q8WMof",
        "colab_type": "code",
        "outputId": "ade884bd-f748-4243-f182-07e14bb8758c",
        "colab": {
          "base_uri": "https://localhost:8080/",
          "height": 439
        }
      },
      "source": [
        "matrix"
      ],
      "execution_count": 35,
      "outputs": [
        {
          "output_type": "execute_result",
          "data": {
            "text/html": [
              "<div>\n",
              "<style scoped>\n",
              "    .dataframe tbody tr th:only-of-type {\n",
              "        vertical-align: middle;\n",
              "    }\n",
              "\n",
              "    .dataframe tbody tr th {\n",
              "        vertical-align: top;\n",
              "    }\n",
              "\n",
              "    .dataframe thead th {\n",
              "        text-align: right;\n",
              "    }\n",
              "</style>\n",
              "<table border=\"1\" class=\"dataframe\">\n",
              "  <thead>\n",
              "    <tr style=\"text-align: right;\">\n",
              "      <th></th>\n",
              "      <th>date_block_num</th>\n",
              "      <th>shop_id</th>\n",
              "      <th>item_id</th>\n",
              "      <th>item_cnt_month</th>\n",
              "      <th>shop_category</th>\n",
              "      <th>shop_city</th>\n",
              "      <th>item_category_id</th>\n",
              "      <th>name2</th>\n",
              "      <th>name3</th>\n",
              "      <th>subtype_code</th>\n",
              "      <th>type_code</th>\n",
              "      <th>item_cnt_month_lag_1</th>\n",
              "      <th>item_cnt_month_lag_2</th>\n",
              "      <th>item_cnt_month_lag_3</th>\n",
              "      <th>date_avg_item_cnt_lag_1</th>\n",
              "      <th>date_item_avg_item_cnt_lag_1</th>\n",
              "      <th>date_item_avg_item_cnt_lag_2</th>\n",
              "      <th>date_item_avg_item_cnt_lag_3</th>\n",
              "      <th>date_shop_avg_item_cnt_lag_1</th>\n",
              "      <th>date_shop_avg_item_cnt_lag_2</th>\n",
              "      <th>date_shop_avg_item_cnt_lag_3</th>\n",
              "      <th>date_shop_item_avg_item_cnt_lag_1</th>\n",
              "      <th>date_shop_item_avg_item_cnt_lag_2</th>\n",
              "      <th>date_shop_item_avg_item_cnt_lag_3</th>\n",
              "      <th>date_shop_subtype_avg_item_cnt_lag_1</th>\n",
              "      <th>date_city_avg_item_cnt_lag_1</th>\n",
              "      <th>date_item_city_avg_item_cnt_lag_1</th>\n",
              "      <th>delta_price_lag</th>\n",
              "      <th>delta_revenue_lag_1</th>\n",
              "    </tr>\n",
              "  </thead>\n",
              "  <tbody>\n",
              "    <tr>\n",
              "      <th>0</th>\n",
              "      <td>0</td>\n",
              "      <td>2</td>\n",
              "      <td>19</td>\n",
              "      <td>0.0</td>\n",
              "      <td>4</td>\n",
              "      <td>0</td>\n",
              "      <td>40</td>\n",
              "      <td>4</td>\n",
              "      <td>42</td>\n",
              "      <td>4</td>\n",
              "      <td>5</td>\n",
              "      <td>NaN</td>\n",
              "      <td>NaN</td>\n",
              "      <td>NaN</td>\n",
              "      <td>NaN</td>\n",
              "      <td>NaN</td>\n",
              "      <td>NaN</td>\n",
              "      <td>NaN</td>\n",
              "      <td>NaN</td>\n",
              "      <td>NaN</td>\n",
              "      <td>NaN</td>\n",
              "      <td>NaN</td>\n",
              "      <td>NaN</td>\n",
              "      <td>NaN</td>\n",
              "      <td>NaN</td>\n",
              "      <td>NaN</td>\n",
              "      <td>NaN</td>\n",
              "      <td>0.000000</td>\n",
              "      <td>NaN</td>\n",
              "    </tr>\n",
              "    <tr>\n",
              "      <th>1</th>\n",
              "      <td>0</td>\n",
              "      <td>2</td>\n",
              "      <td>27</td>\n",
              "      <td>1.0</td>\n",
              "      <td>4</td>\n",
              "      <td>0</td>\n",
              "      <td>19</td>\n",
              "      <td>76</td>\n",
              "      <td>42</td>\n",
              "      <td>10</td>\n",
              "      <td>3</td>\n",
              "      <td>NaN</td>\n",
              "      <td>NaN</td>\n",
              "      <td>NaN</td>\n",
              "      <td>NaN</td>\n",
              "      <td>NaN</td>\n",
              "      <td>NaN</td>\n",
              "      <td>NaN</td>\n",
              "      <td>NaN</td>\n",
              "      <td>NaN</td>\n",
              "      <td>NaN</td>\n",
              "      <td>NaN</td>\n",
              "      <td>NaN</td>\n",
              "      <td>NaN</td>\n",
              "      <td>NaN</td>\n",
              "      <td>NaN</td>\n",
              "      <td>NaN</td>\n",
              "      <td>0.000000</td>\n",
              "      <td>NaN</td>\n",
              "    </tr>\n",
              "    <tr>\n",
              "      <th>2</th>\n",
              "      <td>0</td>\n",
              "      <td>2</td>\n",
              "      <td>28</td>\n",
              "      <td>0.0</td>\n",
              "      <td>4</td>\n",
              "      <td>0</td>\n",
              "      <td>30</td>\n",
              "      <td>107</td>\n",
              "      <td>42</td>\n",
              "      <td>55</td>\n",
              "      <td>3</td>\n",
              "      <td>NaN</td>\n",
              "      <td>NaN</td>\n",
              "      <td>NaN</td>\n",
              "      <td>NaN</td>\n",
              "      <td>NaN</td>\n",
              "      <td>NaN</td>\n",
              "      <td>NaN</td>\n",
              "      <td>NaN</td>\n",
              "      <td>NaN</td>\n",
              "      <td>NaN</td>\n",
              "      <td>NaN</td>\n",
              "      <td>NaN</td>\n",
              "      <td>NaN</td>\n",
              "      <td>NaN</td>\n",
              "      <td>NaN</td>\n",
              "      <td>NaN</td>\n",
              "      <td>0.000000</td>\n",
              "      <td>NaN</td>\n",
              "    </tr>\n",
              "    <tr>\n",
              "      <th>3</th>\n",
              "      <td>0</td>\n",
              "      <td>2</td>\n",
              "      <td>29</td>\n",
              "      <td>0.0</td>\n",
              "      <td>4</td>\n",
              "      <td>0</td>\n",
              "      <td>23</td>\n",
              "      <td>123</td>\n",
              "      <td>42</td>\n",
              "      <td>16</td>\n",
              "      <td>3</td>\n",
              "      <td>NaN</td>\n",
              "      <td>NaN</td>\n",
              "      <td>NaN</td>\n",
              "      <td>NaN</td>\n",
              "      <td>NaN</td>\n",
              "      <td>NaN</td>\n",
              "      <td>NaN</td>\n",
              "      <td>NaN</td>\n",
              "      <td>NaN</td>\n",
              "      <td>NaN</td>\n",
              "      <td>NaN</td>\n",
              "      <td>NaN</td>\n",
              "      <td>NaN</td>\n",
              "      <td>NaN</td>\n",
              "      <td>NaN</td>\n",
              "      <td>NaN</td>\n",
              "      <td>0.000000</td>\n",
              "      <td>NaN</td>\n",
              "    </tr>\n",
              "    <tr>\n",
              "      <th>4</th>\n",
              "      <td>0</td>\n",
              "      <td>2</td>\n",
              "      <td>32</td>\n",
              "      <td>0.0</td>\n",
              "      <td>4</td>\n",
              "      <td>0</td>\n",
              "      <td>40</td>\n",
              "      <td>4</td>\n",
              "      <td>42</td>\n",
              "      <td>4</td>\n",
              "      <td>5</td>\n",
              "      <td>NaN</td>\n",
              "      <td>NaN</td>\n",
              "      <td>NaN</td>\n",
              "      <td>NaN</td>\n",
              "      <td>NaN</td>\n",
              "      <td>NaN</td>\n",
              "      <td>NaN</td>\n",
              "      <td>NaN</td>\n",
              "      <td>NaN</td>\n",
              "      <td>NaN</td>\n",
              "      <td>NaN</td>\n",
              "      <td>NaN</td>\n",
              "      <td>NaN</td>\n",
              "      <td>NaN</td>\n",
              "      <td>NaN</td>\n",
              "      <td>NaN</td>\n",
              "      <td>0.000000</td>\n",
              "      <td>NaN</td>\n",
              "    </tr>\n",
              "    <tr>\n",
              "      <th>...</th>\n",
              "      <td>...</td>\n",
              "      <td>...</td>\n",
              "      <td>...</td>\n",
              "      <td>...</td>\n",
              "      <td>...</td>\n",
              "      <td>...</td>\n",
              "      <td>...</td>\n",
              "      <td>...</td>\n",
              "      <td>...</td>\n",
              "      <td>...</td>\n",
              "      <td>...</td>\n",
              "      <td>...</td>\n",
              "      <td>...</td>\n",
              "      <td>...</td>\n",
              "      <td>...</td>\n",
              "      <td>...</td>\n",
              "      <td>...</td>\n",
              "      <td>...</td>\n",
              "      <td>...</td>\n",
              "      <td>...</td>\n",
              "      <td>...</td>\n",
              "      <td>...</td>\n",
              "      <td>...</td>\n",
              "      <td>...</td>\n",
              "      <td>...</td>\n",
              "      <td>...</td>\n",
              "      <td>...</td>\n",
              "      <td>...</td>\n",
              "      <td>...</td>\n",
              "    </tr>\n",
              "    <tr>\n",
              "      <th>11056272</th>\n",
              "      <td>34</td>\n",
              "      <td>45</td>\n",
              "      <td>18454</td>\n",
              "      <td>0.0</td>\n",
              "      <td>4</td>\n",
              "      <td>20</td>\n",
              "      <td>55</td>\n",
              "      <td>4</td>\n",
              "      <td>42</td>\n",
              "      <td>2</td>\n",
              "      <td>7</td>\n",
              "      <td>1.0</td>\n",
              "      <td>0.0</td>\n",
              "      <td>0.0</td>\n",
              "      <td>0.259033</td>\n",
              "      <td>0.045441</td>\n",
              "      <td>0.023254</td>\n",
              "      <td>0.071411</td>\n",
              "      <td>0.126709</td>\n",
              "      <td>0.129395</td>\n",
              "      <td>0.13916</td>\n",
              "      <td>1.0</td>\n",
              "      <td>0.0</td>\n",
              "      <td>0.0</td>\n",
              "      <td>0.126831</td>\n",
              "      <td>0.135376</td>\n",
              "      <td>0.5</td>\n",
              "      <td>-0.475098</td>\n",
              "      <td>51790.574219</td>\n",
              "    </tr>\n",
              "    <tr>\n",
              "      <th>11056273</th>\n",
              "      <td>34</td>\n",
              "      <td>45</td>\n",
              "      <td>16188</td>\n",
              "      <td>0.0</td>\n",
              "      <td>4</td>\n",
              "      <td>20</td>\n",
              "      <td>64</td>\n",
              "      <td>4</td>\n",
              "      <td>42</td>\n",
              "      <td>42</td>\n",
              "      <td>8</td>\n",
              "      <td>0.0</td>\n",
              "      <td>0.0</td>\n",
              "      <td>NaN</td>\n",
              "      <td>0.259033</td>\n",
              "      <td>0.022720</td>\n",
              "      <td>0.069763</td>\n",
              "      <td>NaN</td>\n",
              "      <td>0.126709</td>\n",
              "      <td>0.129395</td>\n",
              "      <td>NaN</td>\n",
              "      <td>0.0</td>\n",
              "      <td>0.0</td>\n",
              "      <td>NaN</td>\n",
              "      <td>0.094482</td>\n",
              "      <td>0.135376</td>\n",
              "      <td>0.0</td>\n",
              "      <td>0.081116</td>\n",
              "      <td>51790.574219</td>\n",
              "    </tr>\n",
              "    <tr>\n",
              "      <th>11056274</th>\n",
              "      <td>34</td>\n",
              "      <td>45</td>\n",
              "      <td>15757</td>\n",
              "      <td>0.0</td>\n",
              "      <td>4</td>\n",
              "      <td>20</td>\n",
              "      <td>55</td>\n",
              "      <td>4</td>\n",
              "      <td>42</td>\n",
              "      <td>2</td>\n",
              "      <td>7</td>\n",
              "      <td>0.0</td>\n",
              "      <td>0.0</td>\n",
              "      <td>0.0</td>\n",
              "      <td>0.259033</td>\n",
              "      <td>0.113647</td>\n",
              "      <td>0.069763</td>\n",
              "      <td>0.095215</td>\n",
              "      <td>0.126709</td>\n",
              "      <td>0.129395</td>\n",
              "      <td>0.13916</td>\n",
              "      <td>0.0</td>\n",
              "      <td>0.0</td>\n",
              "      <td>0.0</td>\n",
              "      <td>0.126831</td>\n",
              "      <td>0.135376</td>\n",
              "      <td>0.0</td>\n",
              "      <td>0.155884</td>\n",
              "      <td>51790.574219</td>\n",
              "    </tr>\n",
              "    <tr>\n",
              "      <th>11056275</th>\n",
              "      <td>34</td>\n",
              "      <td>45</td>\n",
              "      <td>19648</td>\n",
              "      <td>0.0</td>\n",
              "      <td>4</td>\n",
              "      <td>20</td>\n",
              "      <td>40</td>\n",
              "      <td>4</td>\n",
              "      <td>1367</td>\n",
              "      <td>4</td>\n",
              "      <td>5</td>\n",
              "      <td>0.0</td>\n",
              "      <td>0.0</td>\n",
              "      <td>0.0</td>\n",
              "      <td>0.259033</td>\n",
              "      <td>0.045441</td>\n",
              "      <td>0.069763</td>\n",
              "      <td>0.166626</td>\n",
              "      <td>0.126709</td>\n",
              "      <td>0.129395</td>\n",
              "      <td>0.13916</td>\n",
              "      <td>0.0</td>\n",
              "      <td>0.0</td>\n",
              "      <td>0.0</td>\n",
              "      <td>0.083740</td>\n",
              "      <td>0.135376</td>\n",
              "      <td>0.0</td>\n",
              "      <td>-0.091736</td>\n",
              "      <td>51790.574219</td>\n",
              "    </tr>\n",
              "    <tr>\n",
              "      <th>11056276</th>\n",
              "      <td>34</td>\n",
              "      <td>45</td>\n",
              "      <td>969</td>\n",
              "      <td>0.0</td>\n",
              "      <td>4</td>\n",
              "      <td>20</td>\n",
              "      <td>37</td>\n",
              "      <td>4</td>\n",
              "      <td>562</td>\n",
              "      <td>1</td>\n",
              "      <td>5</td>\n",
              "      <td>0.0</td>\n",
              "      <td>0.0</td>\n",
              "      <td>0.0</td>\n",
              "      <td>0.259033</td>\n",
              "      <td>0.068176</td>\n",
              "      <td>0.116272</td>\n",
              "      <td>0.023804</td>\n",
              "      <td>0.126709</td>\n",
              "      <td>0.129395</td>\n",
              "      <td>0.13916</td>\n",
              "      <td>0.0</td>\n",
              "      <td>0.0</td>\n",
              "      <td>0.0</td>\n",
              "      <td>0.126343</td>\n",
              "      <td>0.135376</td>\n",
              "      <td>0.5</td>\n",
              "      <td>-0.605957</td>\n",
              "      <td>51790.574219</td>\n",
              "    </tr>\n",
              "  </tbody>\n",
              "</table>\n",
              "<p>11056277 rows × 29 columns</p>\n",
              "</div>"
            ],
            "text/plain": [
              "          date_block_num  shop_id  ...  delta_price_lag  delta_revenue_lag_1\n",
              "0                      0        2  ...         0.000000                  NaN\n",
              "1                      0        2  ...         0.000000                  NaN\n",
              "2                      0        2  ...         0.000000                  NaN\n",
              "3                      0        2  ...         0.000000                  NaN\n",
              "4                      0        2  ...         0.000000                  NaN\n",
              "...                  ...      ...  ...              ...                  ...\n",
              "11056272              34       45  ...        -0.475098         51790.574219\n",
              "11056273              34       45  ...         0.081116         51790.574219\n",
              "11056274              34       45  ...         0.155884         51790.574219\n",
              "11056275              34       45  ...        -0.091736         51790.574219\n",
              "11056276              34       45  ...        -0.605957         51790.574219\n",
              "\n",
              "[11056277 rows x 29 columns]"
            ]
          },
          "metadata": {
            "tags": []
          },
          "execution_count": 35
        }
      ]
    },
    {
      "cell_type": "code",
      "metadata": {
        "id": "Fbn3utbMWOzh",
        "colab_type": "code",
        "outputId": "d70e37d1-c05e-4908-ce98-01114b69cc10",
        "colab": {
          "base_uri": "https://localhost:8080/",
          "height": 948
        }
      },
      "source": [
        "matrix.head().T"
      ],
      "execution_count": 36,
      "outputs": [
        {
          "output_type": "execute_result",
          "data": {
            "text/html": [
              "<div>\n",
              "<style scoped>\n",
              "    .dataframe tbody tr th:only-of-type {\n",
              "        vertical-align: middle;\n",
              "    }\n",
              "\n",
              "    .dataframe tbody tr th {\n",
              "        vertical-align: top;\n",
              "    }\n",
              "\n",
              "    .dataframe thead th {\n",
              "        text-align: right;\n",
              "    }\n",
              "</style>\n",
              "<table border=\"1\" class=\"dataframe\">\n",
              "  <thead>\n",
              "    <tr style=\"text-align: right;\">\n",
              "      <th></th>\n",
              "      <th>0</th>\n",
              "      <th>1</th>\n",
              "      <th>2</th>\n",
              "      <th>3</th>\n",
              "      <th>4</th>\n",
              "    </tr>\n",
              "  </thead>\n",
              "  <tbody>\n",
              "    <tr>\n",
              "      <th>date_block_num</th>\n",
              "      <td>0.0</td>\n",
              "      <td>0.0</td>\n",
              "      <td>0.0</td>\n",
              "      <td>0.0</td>\n",
              "      <td>0.0</td>\n",
              "    </tr>\n",
              "    <tr>\n",
              "      <th>shop_id</th>\n",
              "      <td>2.0</td>\n",
              "      <td>2.0</td>\n",
              "      <td>2.0</td>\n",
              "      <td>2.0</td>\n",
              "      <td>2.0</td>\n",
              "    </tr>\n",
              "    <tr>\n",
              "      <th>item_id</th>\n",
              "      <td>19.0</td>\n",
              "      <td>27.0</td>\n",
              "      <td>28.0</td>\n",
              "      <td>29.0</td>\n",
              "      <td>32.0</td>\n",
              "    </tr>\n",
              "    <tr>\n",
              "      <th>item_cnt_month</th>\n",
              "      <td>0.0</td>\n",
              "      <td>1.0</td>\n",
              "      <td>0.0</td>\n",
              "      <td>0.0</td>\n",
              "      <td>0.0</td>\n",
              "    </tr>\n",
              "    <tr>\n",
              "      <th>shop_category</th>\n",
              "      <td>4.0</td>\n",
              "      <td>4.0</td>\n",
              "      <td>4.0</td>\n",
              "      <td>4.0</td>\n",
              "      <td>4.0</td>\n",
              "    </tr>\n",
              "    <tr>\n",
              "      <th>shop_city</th>\n",
              "      <td>0.0</td>\n",
              "      <td>0.0</td>\n",
              "      <td>0.0</td>\n",
              "      <td>0.0</td>\n",
              "      <td>0.0</td>\n",
              "    </tr>\n",
              "    <tr>\n",
              "      <th>item_category_id</th>\n",
              "      <td>40.0</td>\n",
              "      <td>19.0</td>\n",
              "      <td>30.0</td>\n",
              "      <td>23.0</td>\n",
              "      <td>40.0</td>\n",
              "    </tr>\n",
              "    <tr>\n",
              "      <th>name2</th>\n",
              "      <td>4.0</td>\n",
              "      <td>76.0</td>\n",
              "      <td>107.0</td>\n",
              "      <td>123.0</td>\n",
              "      <td>4.0</td>\n",
              "    </tr>\n",
              "    <tr>\n",
              "      <th>name3</th>\n",
              "      <td>42.0</td>\n",
              "      <td>42.0</td>\n",
              "      <td>42.0</td>\n",
              "      <td>42.0</td>\n",
              "      <td>42.0</td>\n",
              "    </tr>\n",
              "    <tr>\n",
              "      <th>subtype_code</th>\n",
              "      <td>4.0</td>\n",
              "      <td>10.0</td>\n",
              "      <td>55.0</td>\n",
              "      <td>16.0</td>\n",
              "      <td>4.0</td>\n",
              "    </tr>\n",
              "    <tr>\n",
              "      <th>type_code</th>\n",
              "      <td>5.0</td>\n",
              "      <td>3.0</td>\n",
              "      <td>3.0</td>\n",
              "      <td>3.0</td>\n",
              "      <td>5.0</td>\n",
              "    </tr>\n",
              "    <tr>\n",
              "      <th>item_cnt_month_lag_1</th>\n",
              "      <td>NaN</td>\n",
              "      <td>NaN</td>\n",
              "      <td>NaN</td>\n",
              "      <td>NaN</td>\n",
              "      <td>NaN</td>\n",
              "    </tr>\n",
              "    <tr>\n",
              "      <th>item_cnt_month_lag_2</th>\n",
              "      <td>NaN</td>\n",
              "      <td>NaN</td>\n",
              "      <td>NaN</td>\n",
              "      <td>NaN</td>\n",
              "      <td>NaN</td>\n",
              "    </tr>\n",
              "    <tr>\n",
              "      <th>item_cnt_month_lag_3</th>\n",
              "      <td>NaN</td>\n",
              "      <td>NaN</td>\n",
              "      <td>NaN</td>\n",
              "      <td>NaN</td>\n",
              "      <td>NaN</td>\n",
              "    </tr>\n",
              "    <tr>\n",
              "      <th>date_avg_item_cnt_lag_1</th>\n",
              "      <td>NaN</td>\n",
              "      <td>NaN</td>\n",
              "      <td>NaN</td>\n",
              "      <td>NaN</td>\n",
              "      <td>NaN</td>\n",
              "    </tr>\n",
              "    <tr>\n",
              "      <th>date_item_avg_item_cnt_lag_1</th>\n",
              "      <td>NaN</td>\n",
              "      <td>NaN</td>\n",
              "      <td>NaN</td>\n",
              "      <td>NaN</td>\n",
              "      <td>NaN</td>\n",
              "    </tr>\n",
              "    <tr>\n",
              "      <th>date_item_avg_item_cnt_lag_2</th>\n",
              "      <td>NaN</td>\n",
              "      <td>NaN</td>\n",
              "      <td>NaN</td>\n",
              "      <td>NaN</td>\n",
              "      <td>NaN</td>\n",
              "    </tr>\n",
              "    <tr>\n",
              "      <th>date_item_avg_item_cnt_lag_3</th>\n",
              "      <td>NaN</td>\n",
              "      <td>NaN</td>\n",
              "      <td>NaN</td>\n",
              "      <td>NaN</td>\n",
              "      <td>NaN</td>\n",
              "    </tr>\n",
              "    <tr>\n",
              "      <th>date_shop_avg_item_cnt_lag_1</th>\n",
              "      <td>NaN</td>\n",
              "      <td>NaN</td>\n",
              "      <td>NaN</td>\n",
              "      <td>NaN</td>\n",
              "      <td>NaN</td>\n",
              "    </tr>\n",
              "    <tr>\n",
              "      <th>date_shop_avg_item_cnt_lag_2</th>\n",
              "      <td>NaN</td>\n",
              "      <td>NaN</td>\n",
              "      <td>NaN</td>\n",
              "      <td>NaN</td>\n",
              "      <td>NaN</td>\n",
              "    </tr>\n",
              "    <tr>\n",
              "      <th>date_shop_avg_item_cnt_lag_3</th>\n",
              "      <td>NaN</td>\n",
              "      <td>NaN</td>\n",
              "      <td>NaN</td>\n",
              "      <td>NaN</td>\n",
              "      <td>NaN</td>\n",
              "    </tr>\n",
              "    <tr>\n",
              "      <th>date_shop_item_avg_item_cnt_lag_1</th>\n",
              "      <td>NaN</td>\n",
              "      <td>NaN</td>\n",
              "      <td>NaN</td>\n",
              "      <td>NaN</td>\n",
              "      <td>NaN</td>\n",
              "    </tr>\n",
              "    <tr>\n",
              "      <th>date_shop_item_avg_item_cnt_lag_2</th>\n",
              "      <td>NaN</td>\n",
              "      <td>NaN</td>\n",
              "      <td>NaN</td>\n",
              "      <td>NaN</td>\n",
              "      <td>NaN</td>\n",
              "    </tr>\n",
              "    <tr>\n",
              "      <th>date_shop_item_avg_item_cnt_lag_3</th>\n",
              "      <td>NaN</td>\n",
              "      <td>NaN</td>\n",
              "      <td>NaN</td>\n",
              "      <td>NaN</td>\n",
              "      <td>NaN</td>\n",
              "    </tr>\n",
              "    <tr>\n",
              "      <th>date_shop_subtype_avg_item_cnt_lag_1</th>\n",
              "      <td>NaN</td>\n",
              "      <td>NaN</td>\n",
              "      <td>NaN</td>\n",
              "      <td>NaN</td>\n",
              "      <td>NaN</td>\n",
              "    </tr>\n",
              "    <tr>\n",
              "      <th>date_city_avg_item_cnt_lag_1</th>\n",
              "      <td>NaN</td>\n",
              "      <td>NaN</td>\n",
              "      <td>NaN</td>\n",
              "      <td>NaN</td>\n",
              "      <td>NaN</td>\n",
              "    </tr>\n",
              "    <tr>\n",
              "      <th>date_item_city_avg_item_cnt_lag_1</th>\n",
              "      <td>NaN</td>\n",
              "      <td>NaN</td>\n",
              "      <td>NaN</td>\n",
              "      <td>NaN</td>\n",
              "      <td>NaN</td>\n",
              "    </tr>\n",
              "    <tr>\n",
              "      <th>delta_price_lag</th>\n",
              "      <td>0.0</td>\n",
              "      <td>0.0</td>\n",
              "      <td>0.0</td>\n",
              "      <td>0.0</td>\n",
              "      <td>0.0</td>\n",
              "    </tr>\n",
              "    <tr>\n",
              "      <th>delta_revenue_lag_1</th>\n",
              "      <td>NaN</td>\n",
              "      <td>NaN</td>\n",
              "      <td>NaN</td>\n",
              "      <td>NaN</td>\n",
              "      <td>NaN</td>\n",
              "    </tr>\n",
              "  </tbody>\n",
              "</table>\n",
              "</div>"
            ],
            "text/plain": [
              "                                         0     1      2      3     4\n",
              "date_block_num                         0.0   0.0    0.0    0.0   0.0\n",
              "shop_id                                2.0   2.0    2.0    2.0   2.0\n",
              "item_id                               19.0  27.0   28.0   29.0  32.0\n",
              "item_cnt_month                         0.0   1.0    0.0    0.0   0.0\n",
              "shop_category                          4.0   4.0    4.0    4.0   4.0\n",
              "shop_city                              0.0   0.0    0.0    0.0   0.0\n",
              "item_category_id                      40.0  19.0   30.0   23.0  40.0\n",
              "name2                                  4.0  76.0  107.0  123.0   4.0\n",
              "name3                                 42.0  42.0   42.0   42.0  42.0\n",
              "subtype_code                           4.0  10.0   55.0   16.0   4.0\n",
              "type_code                              5.0   3.0    3.0    3.0   5.0\n",
              "item_cnt_month_lag_1                   NaN   NaN    NaN    NaN   NaN\n",
              "item_cnt_month_lag_2                   NaN   NaN    NaN    NaN   NaN\n",
              "item_cnt_month_lag_3                   NaN   NaN    NaN    NaN   NaN\n",
              "date_avg_item_cnt_lag_1                NaN   NaN    NaN    NaN   NaN\n",
              "date_item_avg_item_cnt_lag_1           NaN   NaN    NaN    NaN   NaN\n",
              "date_item_avg_item_cnt_lag_2           NaN   NaN    NaN    NaN   NaN\n",
              "date_item_avg_item_cnt_lag_3           NaN   NaN    NaN    NaN   NaN\n",
              "date_shop_avg_item_cnt_lag_1           NaN   NaN    NaN    NaN   NaN\n",
              "date_shop_avg_item_cnt_lag_2           NaN   NaN    NaN    NaN   NaN\n",
              "date_shop_avg_item_cnt_lag_3           NaN   NaN    NaN    NaN   NaN\n",
              "date_shop_item_avg_item_cnt_lag_1      NaN   NaN    NaN    NaN   NaN\n",
              "date_shop_item_avg_item_cnt_lag_2      NaN   NaN    NaN    NaN   NaN\n",
              "date_shop_item_avg_item_cnt_lag_3      NaN   NaN    NaN    NaN   NaN\n",
              "date_shop_subtype_avg_item_cnt_lag_1   NaN   NaN    NaN    NaN   NaN\n",
              "date_city_avg_item_cnt_lag_1           NaN   NaN    NaN    NaN   NaN\n",
              "date_item_city_avg_item_cnt_lag_1      NaN   NaN    NaN    NaN   NaN\n",
              "delta_price_lag                        0.0   0.0    0.0    0.0   0.0\n",
              "delta_revenue_lag_1                    NaN   NaN    NaN    NaN   NaN"
            ]
          },
          "metadata": {
            "tags": []
          },
          "execution_count": 36
        }
      ]
    },
    {
      "cell_type": "code",
      "metadata": {
        "id": "nsZCzC9RWZxG",
        "colab_type": "code",
        "colab": {}
      },
      "source": [
        "matrix[\"month\"] = matrix[\"date_block_num\"] % 12\n",
        "days = pd.Series([31,28,31,30,31,30,31,31,30,31,30,31])\n",
        "matrix[\"days\"] = matrix[\"month\"].map(days).astype(np.int8)"
      ],
      "execution_count": 0,
      "outputs": []
    },
    {
      "cell_type": "code",
      "metadata": {
        "id": "MQLEErjcWgSH",
        "colab_type": "code",
        "outputId": "4482e314-a8f7-482e-8ed3-ed43b6a1df97",
        "colab": {
          "base_uri": "https://localhost:8080/",
          "height": 34
        }
      },
      "source": [
        "ts = time.time()\n",
        "matrix[\"item_shop_first_sale\"] = matrix[\"date_block_num\"] - matrix.groupby([\"item_id\",\"shop_id\"])[\"date_block_num\"].transform('min')\n",
        "matrix[\"item_first_sale\"] = matrix[\"date_block_num\"] - matrix.groupby([\"item_id\"])[\"date_block_num\"].transform('min')\n",
        "time.time() - ts"
      ],
      "execution_count": 38,
      "outputs": [
        {
          "output_type": "execute_result",
          "data": {
            "text/plain": [
              "2.0252859592437744"
            ]
          },
          "metadata": {
            "tags": []
          },
          "execution_count": 38
        }
      ]
    },
    {
      "cell_type": "code",
      "metadata": {
        "id": "HAfqC4U2Whhw",
        "colab_type": "code",
        "outputId": "b62bcf35-e61b-41c1-f736-bc76bc275a13",
        "colab": {
          "base_uri": "https://localhost:8080/",
          "height": 34
        }
      },
      "source": [
        "ts = time.time()\n",
        "matrix = matrix[matrix[\"date_block_num\"] > 3]\n",
        "time.time() - ts"
      ],
      "execution_count": 39,
      "outputs": [
        {
          "output_type": "execute_result",
          "data": {
            "text/plain": [
              "1.0901718139648438"
            ]
          },
          "metadata": {
            "tags": []
          },
          "execution_count": 39
        }
      ]
    },
    {
      "cell_type": "code",
      "metadata": {
        "id": "Fo0oYYYtWl3j",
        "colab_type": "code",
        "colab": {}
      },
      "source": [
        "import os\n",
        "import gc\n",
        "import pickle\n",
        "import time\n",
        "import pandas as pd\n",
        "import numpy as np\n",
        "from xgboost import XGBRegressor\n",
        "import matplotlib.pylab as plt\n",
        "from matplotlib.pylab import rcParams\n",
        "rcParams['figure.figsize'] = 12, 4"
      ],
      "execution_count": 0,
      "outputs": []
    },
    {
      "cell_type": "code",
      "metadata": {
        "id": "YQCh_2iAWoZw",
        "colab_type": "code",
        "outputId": "9bc4c196-afde-450b-83e4-0d74bfe2c3a0",
        "colab": {
          "base_uri": "https://localhost:8080/",
          "height": 34
        }
      },
      "source": [
        "data = matrix.copy()\n",
        "del matrix\n",
        "gc.collect()"
      ],
      "execution_count": 41,
      "outputs": [
        {
          "output_type": "execute_result",
          "data": {
            "text/plain": [
              "0"
            ]
          },
          "metadata": {
            "tags": []
          },
          "execution_count": 41
        }
      ]
    },
    {
      "cell_type": "code",
      "metadata": {
        "id": "-5YulBn1Wqju",
        "colab_type": "code",
        "outputId": "79e2e746-6f35-4a18-9bee-559620e8fe9e",
        "colab": {
          "base_uri": "https://localhost:8080/",
          "height": 34
        }
      },
      "source": [
        "data[data[\"date_block_num\"]==34].shape"
      ],
      "execution_count": 42,
      "outputs": [
        {
          "output_type": "execute_result",
          "data": {
            "text/plain": [
              "(214200, 33)"
            ]
          },
          "metadata": {
            "tags": []
          },
          "execution_count": 42
        }
      ]
    },
    {
      "cell_type": "code",
      "metadata": {
        "id": "pjdluH2oWtMF",
        "colab_type": "code",
        "colab": {}
      },
      "source": [
        "X_train = data[data.date_block_num < 34].drop(['item_cnt_month'], axis=1)\n",
        "Y_train = data[data.date_block_num < 34]['item_cnt_month']\n",
        "X_valid = data[data.date_block_num == 33].drop(['item_cnt_month'], axis=1)\n",
        "Y_valid = data[data.date_block_num == 33]['item_cnt_month']\n",
        "X_test = data[data.date_block_num == 34].drop(['item_cnt_month'], axis=1)\n"
      ],
      "execution_count": 0,
      "outputs": []
    },
    {
      "cell_type": "code",
      "metadata": {
        "id": "OcktPWZdblCg",
        "colab_type": "code",
        "colab": {}
      },
      "source": [
        "## Function to reduce the DF size\n",
        "def reduce_mem_usage(df, verbose=True):\n",
        "    numerics = ['int16', 'int32', 'int64', 'float16', 'float32', 'float64']\n",
        "    #start_mem = df.memory_usage().sum() / 1024**2    \n",
        "    for col in df.columns:\n",
        "        col_type = df[col].dtypes\n",
        "        if col_type in numerics:\n",
        "            c_min = df[col].min()\n",
        "            c_max = df[col].max()\n",
        "            if str(col_type)[:3] == 'int':\n",
        "                if c_min > np.iinfo(np.int8).min and c_max < np.iinfo(np.int8).max:\n",
        "                    df[col] = df[col].astype(np.int8)\n",
        "                elif c_min > np.iinfo(np.int16).min and c_max < np.iinfo(np.int16).max:\n",
        "                    df[col] = df[col].astype(np.int16)\n",
        "                elif c_min > np.iinfo(np.int32).min and c_max < np.iinfo(np.int32).max:\n",
        "                    df[col] = df[col].astype(np.int32)\n",
        "                elif c_min > np.iinfo(np.int64).min and c_max < np.iinfo(np.int64).max:\n",
        "                    df[col] = df[col].astype(np.int64)  \n",
        "            else:\n",
        "                if c_min > np.finfo(np.float16).min and c_max < np.finfo(np.float16).max:\n",
        "                    df[col] = df[col].astype(np.float16)\n",
        "                elif c_min > np.finfo(np.float32).min and c_max < np.finfo(np.float32).max:\n",
        "                    df[col] = df[col].astype(np.float32)\n",
        "                else:\n",
        "                    df[col] = df[col].astype(np.float64)    \n",
        "    #end_mem = df.memory_usage().sum() / 1024**2\n",
        "    #if verbose: print('Mem. usage decreased to {:5.2f} Mb ({:.1f}% reduction)'.format(end_mem, 100 * (start_mem - end_mem) / start_mem))\n",
        "    return df"
      ],
      "execution_count": 0,
      "outputs": []
    },
    {
      "cell_type": "code",
      "metadata": {
        "id": "L-e15aINbmXU",
        "colab_type": "code",
        "colab": {}
      },
      "source": [
        "X_train = reduce_mem_usage(pd.DataFrame(X_train))\n",
        "Y_train = reduce_mem_usage(pd.DataFrame(Y_train))\n",
        "X_valid = reduce_mem_usage(pd.DataFrame(X_valid))\n",
        "Y_valid = reduce_mem_usage(pd.DataFrame(Y_valid))\n",
        "X_test = reduce_mem_usage(pd.DataFrame(X_test))\n",
        "y_train=Y_train"
      ],
      "execution_count": 0,
      "outputs": []
    },
    {
      "cell_type": "code",
      "metadata": {
        "id": "os7GW2JcWwMY",
        "colab_type": "code",
        "outputId": "ca6a65f8-0912-4674-e522-0feacc664492",
        "colab": {
          "base_uri": "https://localhost:8080/",
          "height": 34
        }
      },
      "source": [
        "X_test.shape"
      ],
      "execution_count": 46,
      "outputs": [
        {
          "output_type": "execute_result",
          "data": {
            "text/plain": [
              "(214200, 32)"
            ]
          },
          "metadata": {
            "tags": []
          },
          "execution_count": 46
        }
      ]
    },
    {
      "cell_type": "code",
      "metadata": {
        "id": "mvNIB9z2WyOp",
        "colab_type": "code",
        "colab": {}
      },
      "source": [
        "del data\n",
        "\n",
        "\n",
        "\n",
        "gc.collect();"
      ],
      "execution_count": 0,
      "outputs": []
    },
    {
      "cell_type": "code",
      "metadata": {
        "id": "U-KAkhAU666m",
        "colab_type": "code",
        "colab": {}
      },
      "source": [
        "# categorical_features = (data.dtypes[data.dtypes.apply(str).str.startswith('int')].index).tolist()\n",
        "categorical_features = ['item_category_id',\n",
        " 'shop_id']"
      ],
      "execution_count": 0,
      "outputs": []
    },
    {
      "cell_type": "code",
      "metadata": {
        "id": "jZeZ16Gh6OuJ",
        "colab_type": "code",
        "outputId": "afb23658-1462-42fa-b1d0-fe9ea703ae15",
        "colab": {
          "base_uri": "https://localhost:8080/",
          "height": 258
        }
      },
      "source": [
        "!pip install lofo-importance\n",
        "!pip install pandarallel"
      ],
      "execution_count": 49,
      "outputs": [
        {
          "output_type": "stream",
          "text": [
            "Requirement already satisfied: lofo-importance in /usr/local/lib/python3.6/dist-packages (0.2.5)\n",
            "Requirement already satisfied: lightgbm in /usr/local/lib/python3.6/dist-packages (from lofo-importance) (2.2.3)\n",
            "Requirement already satisfied: numpy in /usr/local/lib/python3.6/dist-packages (from lofo-importance) (1.18.3)\n",
            "Requirement already satisfied: tqdm in /usr/local/lib/python3.6/dist-packages (from lofo-importance) (4.38.0)\n",
            "Requirement already satisfied: pandas in /usr/local/lib/python3.6/dist-packages (from lofo-importance) (1.0.3)\n",
            "Requirement already satisfied: scikit-learn>=0.20.3 in /usr/local/lib/python3.6/dist-packages (from lofo-importance) (0.22.2.post1)\n",
            "Requirement already satisfied: scipy in /usr/local/lib/python3.6/dist-packages (from lofo-importance) (1.4.1)\n",
            "Requirement already satisfied: python-dateutil>=2.6.1 in /usr/local/lib/python3.6/dist-packages (from pandas->lofo-importance) (2.8.1)\n",
            "Requirement already satisfied: pytz>=2017.2 in /usr/local/lib/python3.6/dist-packages (from pandas->lofo-importance) (2018.9)\n",
            "Requirement already satisfied: joblib>=0.11 in /usr/local/lib/python3.6/dist-packages (from scikit-learn>=0.20.3->lofo-importance) (0.14.1)\n",
            "Requirement already satisfied: six>=1.5 in /usr/local/lib/python3.6/dist-packages (from python-dateutil>=2.6.1->pandas->lofo-importance) (1.12.0)\n",
            "Requirement already satisfied: pandarallel in /usr/local/lib/python3.6/dist-packages (1.4.8)\n",
            "Requirement already satisfied: dill in /usr/local/lib/python3.6/dist-packages (from pandarallel) (0.3.1.1)\n"
          ],
          "name": "stdout"
        }
      ]
    },
    {
      "cell_type": "code",
      "metadata": {
        "id": "KaLI559TB2dT",
        "colab_type": "code",
        "colab": {
          "base_uri": "https://localhost:8080/",
          "height": 71
        },
        "outputId": "01a251f0-8d51-483b-fc2e-1d6c1e6345ca"
      },
      "source": [
        "!apt-get -qq install --no-install-recommends nvidia-375\n",
        "!apt-get -qq install --no-install-recommends nvidia-opencl-icd-375 nvidia-opencl-dev opencl-headers\n",
        "!apt-get -qq install --no-install-recommends git cmake build-essential libboost-dev libboost-system-dev libboost-filesystem-dev\n",
        "!pip3 install -qq lightgbm --install-option=--gpu"
      ],
      "execution_count": 50,
      "outputs": [
        {
          "output_type": "stream",
          "text": [
            "/usr/local/lib/python3.6/dist-packages/pip/_internal/commands/install.py:283: UserWarning: Disabling all use of wheels due to the use of --build-options / --global-options / --install-options.\n",
            "  cmdoptions.check_install_build_global(options)\n"
          ],
          "name": "stdout"
        }
      ]
    },
    {
      "cell_type": "code",
      "metadata": {
        "id": "hufl2cUhNvdU",
        "colab_type": "code",
        "colab": {
          "base_uri": "https://localhost:8080/",
          "height": 241
        },
        "outputId": "7196dd36-5953-437c-c09b-2e42a7919169"
      },
      "source": [
        "!pip install bayesian-optimization\n",
        "!pip install scikit-optimize"
      ],
      "execution_count": 51,
      "outputs": [
        {
          "output_type": "stream",
          "text": [
            "Requirement already satisfied: bayesian-optimization in /usr/local/lib/python3.6/dist-packages (1.1.0)\n",
            "Requirement already satisfied: numpy>=1.9.0 in /usr/local/lib/python3.6/dist-packages (from bayesian-optimization) (1.18.3)\n",
            "Requirement already satisfied: scikit-learn>=0.18.0 in /usr/local/lib/python3.6/dist-packages (from bayesian-optimization) (0.22.2.post1)\n",
            "Requirement already satisfied: scipy>=0.14.0 in /usr/local/lib/python3.6/dist-packages (from bayesian-optimization) (1.4.1)\n",
            "Requirement already satisfied: joblib>=0.11 in /usr/local/lib/python3.6/dist-packages (from scikit-learn>=0.18.0->bayesian-optimization) (0.14.1)\n",
            "Requirement already satisfied: scikit-optimize in /usr/local/lib/python3.6/dist-packages (0.7.4)\n",
            "Requirement already satisfied: scipy>=0.18.0 in /usr/local/lib/python3.6/dist-packages (from scikit-optimize) (1.4.1)\n",
            "Requirement already satisfied: scikit-learn>=0.19.1 in /usr/local/lib/python3.6/dist-packages (from scikit-optimize) (0.22.2.post1)\n",
            "Requirement already satisfied: pyaml>=16.9 in /usr/local/lib/python3.6/dist-packages (from scikit-optimize) (20.4.0)\n",
            "Requirement already satisfied: joblib>=0.11 in /usr/local/lib/python3.6/dist-packages (from scikit-optimize) (0.14.1)\n",
            "Requirement already satisfied: numpy>=1.11.0 in /usr/local/lib/python3.6/dist-packages (from scikit-optimize) (1.18.3)\n",
            "Requirement already satisfied: PyYAML in /usr/local/lib/python3.6/dist-packages (from pyaml>=16.9->scikit-optimize) (3.13)\n"
          ],
          "name": "stdout"
        }
      ]
    },
    {
      "cell_type": "code",
      "metadata": {
        "id": "U0qVZ2apLUEz",
        "colab_type": "code",
        "colab": {
          "base_uri": "https://localhost:8080/",
          "height": 34
        },
        "outputId": "396c7261-1d7d-4d66-f294-7a12a693e028"
      },
      "source": [
        "!/opt/bin/nvidia-smi"
      ],
      "execution_count": 52,
      "outputs": [
        {
          "output_type": "stream",
          "text": [
            "/bin/bash: /opt/bin/nvidia-smi: No such file or directory\n"
          ],
          "name": "stdout"
        }
      ]
    },
    {
      "cell_type": "code",
      "metadata": {
        "id": "SxBg1btGGOaU",
        "colab_type": "code",
        "colab": {
          "base_uri": "https://localhost:8080/",
          "height": 190
        },
        "outputId": "bbc70eea-a6ec-4410-8adc-512f3cefea15"
      },
      "source": [
        "!pip install hyperopt"
      ],
      "execution_count": 53,
      "outputs": [
        {
          "output_type": "stream",
          "text": [
            "Requirement already satisfied: hyperopt in /usr/local/lib/python3.6/dist-packages (0.1.2)\n",
            "Requirement already satisfied: networkx in /usr/local/lib/python3.6/dist-packages (from hyperopt) (2.4)\n",
            "Requirement already satisfied: pymongo in /usr/local/lib/python3.6/dist-packages (from hyperopt) (3.10.1)\n",
            "Requirement already satisfied: scipy in /usr/local/lib/python3.6/dist-packages (from hyperopt) (1.4.1)\n",
            "Requirement already satisfied: future in /usr/local/lib/python3.6/dist-packages (from hyperopt) (0.16.0)\n",
            "Requirement already satisfied: tqdm in /usr/local/lib/python3.6/dist-packages (from hyperopt) (4.38.0)\n",
            "Requirement already satisfied: numpy in /usr/local/lib/python3.6/dist-packages (from hyperopt) (1.18.3)\n",
            "Requirement already satisfied: six in /usr/local/lib/python3.6/dist-packages (from hyperopt) (1.12.0)\n",
            "Requirement already satisfied: decorator>=4.3.0 in /usr/local/lib/python3.6/dist-packages (from networkx->hyperopt) (4.4.2)\n"
          ],
          "name": "stdout"
        }
      ]
    },
    {
      "cell_type": "code",
      "metadata": {
        "id": "Oev_1uTTGRzs",
        "colab_type": "code",
        "colab": {
          "base_uri": "https://localhost:8080/",
          "height": 54
        },
        "outputId": "855bf6fa-38aa-4ba3-98e0-7d6f10ae3da2"
      },
      "source": [
        "'''\n",
        "from hyperopt import hp\n",
        "import lightgbm as lgb\n",
        "from hyperopt import fmin\n",
        "from hyperopt import Trials\n",
        "from hyperopt import tpe\n",
        "from hyperopt.pyll.base import scope\n",
        "# Algorithm\n",
        "tpe_algorithm = tpe.suggest\n",
        "\n",
        "N_FOLDS = 5\n",
        "\n",
        "# Create the dataset\n",
        "train_set = lgb.Dataset(X_train,Y_train['item_cnt_month'].values.astype(np.int32), free_raw_data=False)\n",
        "\n",
        "def objective(params, n_folds = N_FOLDS):\n",
        "    \"\"\"Objective function for Gradient Boosting Machine Hyperparameter Tuning\"\"\"\n",
        "    \n",
        "    # Perform n_fold cross validation with hyperparameters\n",
        "    # Use early stopping and evalute based on ROC AUC\n",
        "    cv_results = lgb.cv(params, train_set, nfold = n_folds, num_boost_round = 10000, \n",
        "                        early_stopping_rounds = 100, metrics = 'auc', seed = 50)\n",
        "  \n",
        "    # Extract the best score\n",
        "    best_score = max(cv_results['auc-mean'])\n",
        "    \n",
        "    # Loss must be minimized\n",
        "    loss = 1-best_score\n",
        "    \n",
        "    # Dictionary with information for evaluation\n",
        "    return {'loss': loss, 'params': params, 'status': STATUS_OK}\n",
        "\n",
        "# Define the search space\n",
        "space = {\n",
        "    'class_weight': hp.choice('class_weight', [None, 'balanced']),\n",
        "    'boosting_type': 'gbdt',\n",
        "    'num_leaves': scope.int(hp.quniform('num_leaves', 30, 150, 1)),\n",
        "    'min_data_in_leaf' : scope.int(hp.quniform('min_data_in_leaf', 0, 20, 1)),\n",
        "    'learning_rate': hp.loguniform('learning_rate', np.log(0.01), np.log(0.2)),                         \n",
        "    'subsample_for_bin': hp.quniform('subsample_for_bin', 20000, 300000, 20000),\n",
        "    'min_child_samples': hp.quniform('min_child_samples', 20, 500, 5),\n",
        "    'reg_alpha': hp.uniform('reg_alpha', 0.0, 1.0),\n",
        "    'reg_lambda': hp.uniform('reg_lambda', 0.0, 1.0),\n",
        "    'colsample_bytree': hp.uniform('colsample_by_tree', 0.6, 1.0),\n",
        "    'bin_construct_sample_cnt' : scope.int(hp.quniform('bin_construct_sample_cnt', 1, 40000, 1))\n",
        "}\n",
        "MAX_EVALS = 1\n",
        "bayes_trials = Trials()\n",
        "best = fmin(fn = objective, space = space, algo = tpe.suggest, \n",
        "            max_evals = MAX_EVALS, trials = bayes_trials)\n",
        "'''"
      ],
      "execution_count": 54,
      "outputs": [
        {
          "output_type": "execute_result",
          "data": {
            "text/plain": [
              "'\\nfrom hyperopt import hp\\nimport lightgbm as lgb\\nfrom hyperopt import fmin\\nfrom hyperopt import Trials\\nfrom hyperopt import tpe\\nfrom hyperopt.pyll.base import scope\\n# Algorithm\\ntpe_algorithm = tpe.suggest\\n\\nN_FOLDS = 5\\n\\n# Create the dataset\\ntrain_set = lgb.Dataset(X_train,Y_train[\\'item_cnt_month\\'].values.astype(np.int32), free_raw_data=False)\\n\\ndef objective(params, n_folds = N_FOLDS):\\n    \"\"\"Objective function for Gradient Boosting Machine Hyperparameter Tuning\"\"\"\\n    \\n    # Perform n_fold cross validation with hyperparameters\\n    # Use early stopping and evalute based on ROC AUC\\n    cv_results = lgb.cv(params, train_set, nfold = n_folds, num_boost_round = 10000, \\n                        early_stopping_rounds = 100, metrics = \\'auc\\', seed = 50)\\n  \\n    # Extract the best score\\n    best_score = max(cv_results[\\'auc-mean\\'])\\n    \\n    # Loss must be minimized\\n    loss = 1-best_score\\n    \\n    # Dictionary with information for evaluation\\n    return {\\'loss\\': loss, \\'params\\': params, \\'status\\': STATUS_OK}\\n\\n# Define the search space\\nspace = {\\n    \\'class_weight\\': hp.choice(\\'class_weight\\', [None, \\'balanced\\']),\\n    \\'boosting_type\\': \\'gbdt\\',\\n    \\'num_leaves\\': scope.int(hp.quniform(\\'num_leaves\\', 30, 150, 1)),\\n    \\'min_data_in_leaf\\' : scope.int(hp.quniform(\\'min_data_in_leaf\\', 0, 20, 1)),\\n    \\'learning_rate\\': hp.loguniform(\\'learning_rate\\', np.log(0.01), np.log(0.2)),                         \\n    \\'subsample_for_bin\\': hp.quniform(\\'subsample_for_bin\\', 20000, 300000, 20000),\\n    \\'min_child_samples\\': hp.quniform(\\'min_child_samples\\', 20, 500, 5),\\n    \\'reg_alpha\\': hp.uniform(\\'reg_alpha\\', 0.0, 1.0),\\n    \\'reg_lambda\\': hp.uniform(\\'reg_lambda\\', 0.0, 1.0),\\n    \\'colsample_bytree\\': hp.uniform(\\'colsample_by_tree\\', 0.6, 1.0),\\n    \\'bin_construct_sample_cnt\\' : scope.int(hp.quniform(\\'bin_construct_sample_cnt\\', 1, 40000, 1))\\n}\\nMAX_EVALS = 1\\nbayes_trials = Trials()\\nbest = fmin(fn = objective, space = space, algo = tpe.suggest, \\n            max_evals = MAX_EVALS, trials = bayes_trials)\\n'"
            ]
          },
          "metadata": {
            "tags": []
          },
          "execution_count": 54
        }
      ]
    },
    {
      "cell_type": "code",
      "metadata": {
        "id": "--VHiNgtZ-rJ",
        "colab_type": "code",
        "colab": {
          "base_uri": "https://localhost:8080/",
          "height": 54
        },
        "outputId": "87f21029-e391-442b-89c6-0c21a1d7a095"
      },
      "source": [
        "'''\n",
        "from hyperopt import hp\n",
        "import lightgbm as lgb\n",
        "from hyperopt import fmin\n",
        "from hyperopt import Trials\n",
        "from hyperopt import tpe, STATUS_OK\n",
        "from hyperopt.pyll.base import scope\n",
        "from sklearn.model_selection import cross_val_score\n",
        "from sklearn.model_selection import train_test_split, KFold\n",
        "from sklearn.metrics import mean_squared_error\n",
        "# Algorithm\n",
        "tpe_algorithm = tpe.suggest\n",
        "def objective(params):\n",
        "    params = {\n",
        "        'num_leaves': int(params['num_leaves']),\n",
        "        'min_data_in_leaf': int(params['min_data_in_leaf']),\n",
        "        'max_depth': int(params['max_depth']),\n",
        "        'lambda_l2': '{:.3f}'.format(params['lambda_l2']),\n",
        "        'lambda_l1': '{:.3f}'.format(params['lambda_l1'])\n",
        "        'learning_rate' : '{:.3f}'.format.params['learning_rate'],\n",
        "         'feature_fraction' :  '{:.3f}'.format.params['feature_fraction'],\n",
        "         'bagging_fraction' : '{:.3f}'.format.params['bagging_fraction'],\n",
        "         'max_bin' : int(round(params['max_bin'])),\n",
        "          'min_data_in_leaf' : int(round(params['min_data_in_leaf'])),\n",
        "         'min_sum_hessian_in_leaf' : params['min_sum_hessian_in_leaf'] ,           \n",
        "          'subsample' ='{:.3f}'.format.params['subsample']\n",
        "\n",
        "\n",
        "\n",
        "    }\n",
        "    \n",
        "    reg = lgb.LGBMRegressor(\n",
        "        n_estimators=10,\n",
        "        #learning_rate=0.01,\n",
        "        **params\n",
        "    )\n",
        "    \n",
        "    eval_set  = [( X_train, Y_train), ( X_valid, Y_valid)]\n",
        "\n",
        "    reg.fit(X_train, Y_train,\n",
        "            eval_set=eval_set, eval_metric=\"rmse\",\n",
        "            early_stopping_rounds=100,verbose=True)\n",
        "\n",
        "    pred = reg.predict(X_valid)\n",
        "    mse_scr = mean_squared_error(Y_valid, pred)\n",
        "    #print (\"SCORE:\", np.sqrt(mse_scr))\n",
        "    #change the metric if you like\n",
        "    return {'loss':mse_scr, 'status': STATUS_OK }\n",
        "\n",
        "\n",
        "\n",
        "    #score = cross_val_score(reg, X_train,Y_train['item_cnt_month'].values.astype(np.int32), scoring='neg_mean_squared_error', cv=KFold(n_splits=5)).mean()\n",
        "    #print(\"rmse_mean {:.3f} params {}\".format(score, params))\n",
        "    #return score\n",
        "\n",
        "space = {\n",
        "    'num_leaves': hp.quniform('num_leaves', 10, 50, 5),\n",
        "    'min_data_in_leaf': hp.quniform('min_data_in_leaf', 1, 30, 3),\n",
        "    'max_depth': hp.quniform('max_depth', 2, 30, 5),\n",
        "    'lambda_l1': hp.uniform('lambda_l1', 0.01, 0.3)\n",
        "\n",
        "\n",
        "\n",
        "\n",
        "      'num_leaves': int(params['num_leaves']),\n",
        "        'min_data_in_leaf': int(params['min_data_in_leaf']),\n",
        "        'max_depth': int(params['max_depth']),\n",
        "        'lambda_l2': '{:.3f}'.format(params['lambda_l2']),\n",
        "        'lambda_l1': '{:.3f}'.format(params['lambda_l1'])\n",
        "        'learning_rate' : '{:.3f}'.format.params['learning_rate'],\n",
        "         'feature_fraction' :  '{:.3f}'.format.params['feature_fraction'],\n",
        "         'bagging_fraction' : '{:.3f}'.format.params['bagging_fraction'],\n",
        "         'max_bin' : int(round(params['max_bin'])),\n",
        "          'min_data_in_leaf' : int(round(params['min_data_in_leaf'])),\n",
        "         'min_sum_hessian_in_leaf' : params['min_sum_hessian_in_leaf'] ,           \n",
        "          'subsample' ='{:.3f}'.format.params['subsample']\n",
        "\n",
        "\n",
        "}\n",
        "\n",
        "best = fmin(fn=objective,\n",
        "            space=space,\n",
        "            algo=tpe.suggest,\n",
        "            max_evals=10)\n",
        "print(best)\n",
        "'''"
      ],
      "execution_count": 55,
      "outputs": [
        {
          "output_type": "execute_result",
          "data": {
            "text/plain": [
              "'\\nfrom hyperopt import hp\\nimport lightgbm as lgb\\nfrom hyperopt import fmin\\nfrom hyperopt import Trials\\nfrom hyperopt import tpe, STATUS_OK\\nfrom hyperopt.pyll.base import scope\\nfrom sklearn.model_selection import cross_val_score\\nfrom sklearn.model_selection import train_test_split, KFold\\nfrom sklearn.metrics import mean_squared_error\\n# Algorithm\\ntpe_algorithm = tpe.suggest\\ndef objective(params):\\n    params = {\\n        \\'num_leaves\\': int(params[\\'num_leaves\\']),\\n        \\'min_data_in_leaf\\': int(params[\\'min_data_in_leaf\\']),\\n        \\'max_depth\\': int(params[\\'max_depth\\']),\\n        \\'lambda_l2\\': \\'{:.3f}\\'.format(params[\\'lambda_l2\\']),\\n        \\'lambda_l1\\': \\'{:.3f}\\'.format(params[\\'lambda_l1\\'])\\n        \\'learning_rate\\' : \\'{:.3f}\\'.format.params[\\'learning_rate\\'],\\n         \\'feature_fraction\\' :  \\'{:.3f}\\'.format.params[\\'feature_fraction\\'],\\n         \\'bagging_fraction\\' : \\'{:.3f}\\'.format.params[\\'bagging_fraction\\'],\\n         \\'max_bin\\' : int(round(params[\\'max_bin\\'])),\\n          \\'min_data_in_leaf\\' : int(round(params[\\'min_data_in_leaf\\'])),\\n         \\'min_sum_hessian_in_leaf\\' : params[\\'min_sum_hessian_in_leaf\\'] ,           \\n          \\'subsample\\' =\\'{:.3f}\\'.format.params[\\'subsample\\']\\n\\n\\n\\n    }\\n    \\n    reg = lgb.LGBMRegressor(\\n        n_estimators=10,\\n        #learning_rate=0.01,\\n        **params\\n    )\\n    \\n    eval_set  = [( X_train, Y_train), ( X_valid, Y_valid)]\\n\\n    reg.fit(X_train, Y_train,\\n            eval_set=eval_set, eval_metric=\"rmse\",\\n            early_stopping_rounds=100,verbose=True)\\n\\n    pred = reg.predict(X_valid)\\n    mse_scr = mean_squared_error(Y_valid, pred)\\n    #print (\"SCORE:\", np.sqrt(mse_scr))\\n    #change the metric if you like\\n    return {\\'loss\\':mse_scr, \\'status\\': STATUS_OK }\\n\\n\\n\\n    #score = cross_val_score(reg, X_train,Y_train[\\'item_cnt_month\\'].values.astype(np.int32), scoring=\\'neg_mean_squared_error\\', cv=KFold(n_splits=5)).mean()\\n    #print(\"rmse_mean {:.3f} params {}\".format(score, params))\\n    #return score\\n\\nspace = {\\n    \\'num_leaves\\': hp.quniform(\\'num_leaves\\', 10, 50, 5),\\n    \\'min_data_in_leaf\\': hp.quniform(\\'min_data_in_leaf\\', 1, 30, 3),\\n    \\'max_depth\\': hp.quniform(\\'max_depth\\', 2, 30, 5),\\n    \\'lambda_l1\\': hp.uniform(\\'lambda_l1\\', 0.01, 0.3)\\n\\n\\n\\n\\n      \\'num_leaves\\': int(params[\\'num_leaves\\']),\\n        \\'min_data_in_leaf\\': int(params[\\'min_data_in_leaf\\']),\\n        \\'max_depth\\': int(params[\\'max_depth\\']),\\n        \\'lambda_l2\\': \\'{:.3f}\\'.format(params[\\'lambda_l2\\']),\\n        \\'lambda_l1\\': \\'{:.3f}\\'.format(params[\\'lambda_l1\\'])\\n        \\'learning_rate\\' : \\'{:.3f}\\'.format.params[\\'learning_rate\\'],\\n         \\'feature_fraction\\' :  \\'{:.3f}\\'.format.params[\\'feature_fraction\\'],\\n         \\'bagging_fraction\\' : \\'{:.3f}\\'.format.params[\\'bagging_fraction\\'],\\n         \\'max_bin\\' : int(round(params[\\'max_bin\\'])),\\n          \\'min_data_in_leaf\\' : int(round(params[\\'min_data_in_leaf\\'])),\\n         \\'min_sum_hessian_in_leaf\\' : params[\\'min_sum_hessian_in_leaf\\'] ,           \\n          \\'subsample\\' =\\'{:.3f}\\'.format.params[\\'subsample\\']\\n\\n\\n}\\n\\nbest = fmin(fn=objective,\\n            space=space,\\n            algo=tpe.suggest,\\n            max_evals=10)\\nprint(best)\\n'"
            ]
          },
          "metadata": {
            "tags": []
          },
          "execution_count": 55
        }
      ]
    },
    {
      "cell_type": "code",
      "metadata": {
        "id": "cKkR8u0zJRVZ",
        "colab_type": "code",
        "colab": {
          "base_uri": "https://localhost:8080/",
          "height": 54
        },
        "outputId": "a48a903d-53d6-47e8-d30a-fa7940347979"
      },
      "source": [
        "'''\n",
        "from bayes_opt import BayesianOptimization\n",
        "from skopt  import BayesSearchCV \n",
        "import lightgbm as lgb\n",
        "\n",
        "yT = Y_train['item_cnt_month'].values.astype(np.int32)\n",
        "\n",
        "def bayes_parameter_opt_lgb(X_train, yT, init_round=15, opt_round=25, n_folds=5, random_seed=42,n_estimators=10000, output_process=False):\n",
        "    # prepare data\n",
        "    train_data = lgb.Dataset(data=X_train, label=yT, free_raw_data=False)\n",
        "    # parameters\n",
        "    def lgb_eval(learning_rate,num_leaves, feature_fraction, bagging_fraction, max_depth, max_bin, min_data_in_leaf,min_sum_hessian_in_leaf,subsample,\n",
        "               bagging_seed, lambda_l2, lambda_l1  ):\n",
        "        params = {'application':'regression', 'metric':'rmse' }\n",
        "        params['learning_rate'] = max(min(learning_rate, 1), 0)\n",
        "        params[\"num_leaves\"] = int(round(num_leaves))\n",
        "        params['feature_fraction'] = max(min(feature_fraction, 1), 0)\n",
        "        params['bagging_fraction'] = max(min(bagging_fraction, 1), 0)\n",
        "        params['max_depth'] = int(round(max_depth))\n",
        "        params['max_bin'] = int(round(max_bin))\n",
        "        params['min_data_in_leaf'] = int(round(min_data_in_leaf))\n",
        "        params['min_sum_hessian_in_leaf'] = min_sum_hessian_in_leaf\n",
        "        params['subsample'] = max(min(subsample, 1), 0)\n",
        "        params['bagging_seed'] = int(round(bagging_seed))\n",
        "        params['lambda_l2'] = max(min(lambda_l2, 1), 0)\n",
        "        params['lambda_l1'] = max(min(lambda_l1, 1), 0)\n",
        "        \n",
        "        cv_result = lgb.cv(params, train_data, nfold=n_folds, seed=random_seed, stratified=True, verbose_eval =200, metrics=['rmse'])\n",
        "        print(cv_result)\n",
        "        return max(cv_result['rmse-mean'])\n",
        "     \n",
        "    lgbBO = BayesianOptimization(lgb_eval, {'learning_rate': (0.0070,0.0080),\n",
        "                                            'num_leaves': (80, 1024),\n",
        "                                            'feature_fraction': (0.3, 0.5),\n",
        "                                            'bagging_fraction': (0.3, 1),\n",
        "                                            'max_depth': (5, 30),\n",
        "                                            'max_bin':(240,260),\n",
        "                                            'min_data_in_leaf': (2, 30),\n",
        "                                            'min_sum_hessian_in_leaf':(0,100),\n",
        "                                            'subsample':(0,1),\n",
        "                                            'bagging_seed': (0,50),\n",
        "                                            'lambda_l2': (0,1),\n",
        "                                            'lambda_l1': (0,1)\n",
        "                                            \n",
        "                                           \n",
        "                                           }, random_state=42)\n",
        "\n",
        "    \n",
        "    #n_iter: How many steps of bayesian optimization you want to perform. The more steps the more likely to find a good maximum you are.\n",
        "    #init_points: How many steps of random exploration you want to perform. Random exploration can help by diversifying the exploration space.\n",
        "    \n",
        "    lgbBO.maximize(init_points=init_round, n_iter=opt_round)\n",
        "    \n",
        "    model_auc=[]\n",
        "    for model in range(len( lgbBO.res)):\n",
        "        model_auc.append(lgbBO.res[model]['target'])\n",
        "    \n",
        "    # return best parameters\n",
        "    return lgbBO.res[pd.Series(model_auc).idxmax()]['target'],lgbBO.res[pd.Series(model_auc).idxmax()]['params']\n",
        "\n",
        "opt_params = bayes_parameter_opt_lgb(X_train, yT, init_round=5, opt_round=10, n_folds=5, random_seed=42,n_estimators=5000)\n",
        "'''\n"
      ],
      "execution_count": 56,
      "outputs": [
        {
          "output_type": "execute_result",
          "data": {
            "text/plain": [
              "'\\nfrom bayes_opt import BayesianOptimization\\nfrom skopt  import BayesSearchCV \\nimport lightgbm as lgb\\n\\nyT = Y_train[\\'item_cnt_month\\'].values.astype(np.int32)\\n\\ndef bayes_parameter_opt_lgb(X_train, yT, init_round=15, opt_round=25, n_folds=5, random_seed=42,n_estimators=10000, output_process=False):\\n    # prepare data\\n    train_data = lgb.Dataset(data=X_train, label=yT, free_raw_data=False)\\n    # parameters\\n    def lgb_eval(learning_rate,num_leaves, feature_fraction, bagging_fraction, max_depth, max_bin, min_data_in_leaf,min_sum_hessian_in_leaf,subsample,\\n               bagging_seed, lambda_l2, lambda_l1  ):\\n        params = {\\'application\\':\\'regression\\', \\'metric\\':\\'rmse\\' }\\n        params[\\'learning_rate\\'] = max(min(learning_rate, 1), 0)\\n        params[\"num_leaves\"] = int(round(num_leaves))\\n        params[\\'feature_fraction\\'] = max(min(feature_fraction, 1), 0)\\n        params[\\'bagging_fraction\\'] = max(min(bagging_fraction, 1), 0)\\n        params[\\'max_depth\\'] = int(round(max_depth))\\n        params[\\'max_bin\\'] = int(round(max_bin))\\n        params[\\'min_data_in_leaf\\'] = int(round(min_data_in_leaf))\\n        params[\\'min_sum_hessian_in_leaf\\'] = min_sum_hessian_in_leaf\\n        params[\\'subsample\\'] = max(min(subsample, 1), 0)\\n        params[\\'bagging_seed\\'] = int(round(bagging_seed))\\n        params[\\'lambda_l2\\'] = max(min(lambda_l2, 1), 0)\\n        params[\\'lambda_l1\\'] = max(min(lambda_l1, 1), 0)\\n        \\n        cv_result = lgb.cv(params, train_data, nfold=n_folds, seed=random_seed, stratified=True, verbose_eval =200, metrics=[\\'rmse\\'])\\n        print(cv_result)\\n        return max(cv_result[\\'rmse-mean\\'])\\n     \\n    lgbBO = BayesianOptimization(lgb_eval, {\\'learning_rate\\': (0.0070,0.0080),\\n                                            \\'num_leaves\\': (80, 1024),\\n                                            \\'feature_fraction\\': (0.3, 0.5),\\n                                            \\'bagging_fraction\\': (0.3, 1),\\n                                            \\'max_depth\\': (5, 30),\\n                                            \\'max_bin\\':(240,260),\\n                                            \\'min_data_in_leaf\\': (2, 30),\\n                                            \\'min_sum_hessian_in_leaf\\':(0,100),\\n                                            \\'subsample\\':(0,1),\\n                                            \\'bagging_seed\\': (0,50),\\n                                            \\'lambda_l2\\': (0,1),\\n                                            \\'lambda_l1\\': (0,1)\\n                                            \\n                                           \\n                                           }, random_state=42)\\n\\n    \\n    #n_iter: How many steps of bayesian optimization you want to perform. The more steps the more likely to find a good maximum you are.\\n    #init_points: How many steps of random exploration you want to perform. Random exploration can help by diversifying the exploration space.\\n    \\n    lgbBO.maximize(init_points=init_round, n_iter=opt_round)\\n    \\n    model_auc=[]\\n    for model in range(len( lgbBO.res)):\\n        model_auc.append(lgbBO.res[model][\\'target\\'])\\n    \\n    # return best parameters\\n    return lgbBO.res[pd.Series(model_auc).idxmax()][\\'target\\'],lgbBO.res[pd.Series(model_auc).idxmax()][\\'params\\']\\n\\nopt_params = bayes_parameter_opt_lgb(X_train, yT, init_round=5, opt_round=10, n_folds=5, random_seed=42,n_estimators=5000)\\n'"
            ]
          },
          "metadata": {
            "tags": []
          },
          "execution_count": 56
        }
      ]
    },
    {
      "cell_type": "code",
      "metadata": {
        "id": "Z41NefzHJV91",
        "colab_type": "code",
        "colab": {
          "base_uri": "https://localhost:8080/",
          "height": 54
        },
        "outputId": "6253f2c0-24d4-450b-cfa5-6b3a8f55c875"
      },
      "source": [
        "'''\n",
        "opt_params[1][\"num_leaves\"] = int(round(opt_params[1][\"num_leaves\"]))\n",
        "opt_params[1]['max_depth'] = int(round(opt_params[1]['max_depth']))\n",
        "opt_params[1]['min_data_in_leaf'] = int(round(opt_params[1]['min_data_in_leaf']))\n",
        "opt_params[1]['max_bin'] = int(round(opt_params[1]['max_bin']))\n",
        "opt_params=opt_params[1]\n",
        "\n",
        "opt_params\n",
        "'''"
      ],
      "execution_count": 57,
      "outputs": [
        {
          "output_type": "execute_result",
          "data": {
            "text/plain": [
              "'\\nopt_params[1][\"num_leaves\"] = int(round(opt_params[1][\"num_leaves\"]))\\nopt_params[1][\\'max_depth\\'] = int(round(opt_params[1][\\'max_depth\\']))\\nopt_params[1][\\'min_data_in_leaf\\'] = int(round(opt_params[1][\\'min_data_in_leaf\\']))\\nopt_params[1][\\'max_bin\\'] = int(round(opt_params[1][\\'max_bin\\']))\\nopt_params=opt_params[1]\\n\\nopt_params\\n'"
            ]
          },
          "metadata": {
            "tags": []
          },
          "execution_count": 57
        }
      ]
    },
    {
      "cell_type": "code",
      "metadata": {
        "id": "sW9a7jEpW11x",
        "colab_type": "code",
        "outputId": "61b65263-6a2d-4dfb-f565-c8b65ca74da6",
        "colab": {
          "base_uri": "https://localhost:8080/",
          "height": 664,
          "referenced_widgets": [
            "fc4832fb5e254b5bbd5413da32333a82",
            "1778e3cb60284bb8b579d6fa1bcfb640",
            "6636e66fb3f6449f8611bde18f3c7e42",
            "9f0a192bf7f246a688ead04f423fd7e9",
            "3550df372e304eeeb5f5a0f902cb5c61",
            "3ab2e7d2533e4059bd8b924b9e236d26",
            "e18f840b0e7546a99f24feaf96e3a1ca",
            "48eeda4bd44b4d97a90291d323b671da"
          ]
        }
      },
      "source": [
        "\n",
        "\n",
        "import numpy as np\n",
        "import pandas as pd\n",
        "import dateutil\n",
        "import datetime as dt\n",
        "from datetime import date\n",
        "from pandarallel import pandarallel\n",
        "import matplotlib.pyplot as plt\n",
        "import seaborn as sns\n",
        "import re\n",
        "import gc\n",
        "from tqdm.notebook import tqdm\n",
        "import pickle\n",
        "import statsmodels.api as sm\n",
        "from pylab import rcParams\n",
        "from itertools import permutations, product\n",
        "import time\n",
        "import lightgbm as lgb\n",
        "\n",
        "\n",
        "from lofo import LOFOImportance, FLOFOImportance, Dataset, plot_importance\n",
        "\n",
        "from sklearn.metrics import (mean_squared_log_error, mean_squared_error,\n",
        "                             mean_absolute_error)\n",
        "from sklearn.preprocessing import LabelEncoder, OneHotEncoder\n",
        "\n",
        "from sklearn.model_selection import train_test_split, KFold\n",
        "import warnings\n",
        "\n",
        "pandarallel.initialize()\n",
        "ts = time.time()\n",
        "\n",
        "kf = KFold(n_splits = 5, random_state=42)\n",
        "resu1 = 0\n",
        "impor1 = 0\n",
        "resu3_mae=0\n",
        "y_pred = 0\n",
        "y_final_test = 0\n",
        "stack_train = np.zeros([X_train.shape[0], ])\n",
        "models = []\n",
        "# params = {'num_leaves': 70,\n",
        "#           'objective': 'regression',\n",
        "#           'learning_rate': 0.1,\n",
        "#           \"boosting\": \"dart\",\n",
        "#           \"bagging_freq\": 5,\n",
        "#           \"bagging_fraction\": 0.1,\n",
        "#           \"feature_fraction\": 0.9,\n",
        "#           \"num_rounds\": 600,\n",
        "#           # 'max_depth':10\n",
        "#           }\n",
        "\n",
        "RAND_SEED = 42\n",
        "\n",
        "params =  {'num_leaves': 2**8, #'max_depth': 19, \n",
        "              'max_bin': 250, \n",
        "              'n_estimators': 5000,\n",
        "              'bagging_freq': 1, 'bagging_fraction': 0.7135681370918421, \n",
        "              'feature_fraction': 0.49446461478601994, #'min_data_in_leaf': 2**8, # 88\n",
        "              'learning_rate': 0.0075,\n",
        "              'min_data_in_leaf': 5,\n",
        "              'num_threads': 16, \n",
        "                #'device' : 'gpu',\n",
        "              'min_sum_hessian_in_leaf': 6,\n",
        "              'random_state' : RAND_SEED,\n",
        "              'bagging_seed' : 42,\n",
        "              'boost_from_average' : 'true',\n",
        "              'metric' : 'rmse',\n",
        "              'tree_learner' : 'voting',\n",
        "              'top_k' : 40,\n",
        "              #'lambda_l1': 0.3877650083876222,\n",
        "              #'lambda_l2': 0.9370034593829282,\n",
        "              'verbose' : 1}\n",
        "\n",
        "\n",
        "prms2={'bagging_fraction': 0.7956508044572318,\n",
        " 'feature_fraction': 0.11440914600706172,\n",
        " 'learning_rate': 0.007969909852161994,\n",
        " 'max_bin': 257,\n",
        " 'max_depth': 10,\n",
        " 'min_data_in_leaf': 7,\n",
        " 'min_sum_hessian_in_leaf': 18.34045098534338,\n",
        " 'num_leaves': 367,\n",
        " 'subsample': 0.5247564316322378}\n",
        "\n",
        "\n",
        "    \n",
        "for train_index, test_index in tqdm(list(kf.split(X_train, y_train))):\n",
        "    print(train_index)\n",
        "    print(test_index)\n",
        "    X_train2 = X_train.iloc[train_index, :]\n",
        "    y_train2 = y_train.iloc[train_index]\n",
        "    X_test2 = X_train.iloc[test_index, :]\n",
        "    y_test2 = y_train.iloc[test_index]\n",
        "    \n",
        "    d_training = lgb.Dataset(X_train2, label=y_train2,\n",
        "                             categorical_feature=categorical_features,\n",
        "                             free_raw_data=False)\n",
        "    d_test = lgb.Dataset(X_test2, label=y_test2,\n",
        "                         categorical_feature=categorical_features,\n",
        "                         free_raw_data=False)\n",
        "    \n",
        "    clf = lgb.train(params, train_set=d_training, num_boost_round=1000,\n",
        "                      valid_sets=[d_training, d_test], verbose_eval=25,\n",
        "                      early_stopping_rounds=50)\n",
        "\n",
        "    models.append(clf)\n",
        "    temp_predict = clf.predict(X_test2, num_iteration=clf.best_iteration)\n",
        "    stack_train[test_index] = temp_predict\n",
        "\n",
        "    y_pred += clf.predict(X_test, num_iteration=clf.best_iteration)/5\n",
        "    y_final_test += clf.predict(X_test, num_iteration=clf.best_iteration)/5\n",
        "    mse = mean_squared_error(y_test2, temp_predict)\n",
        "    mae = mean_absolute_error(y_test2, temp_predict)\n",
        "\n",
        "    resu1 += mse/5\n",
        "    resu3_mae += mae/5 \n",
        "    impor1 += clf.feature_importance()/5\n",
        "    del X_train2, y_train2, X_test2, y_test2; gc.collect()\n",
        "\n",
        "print('xxxxxxxxx',resu1,resu3_mae)\n",
        "# model = lgb.LGBMRegressor(**params)\n",
        "\n",
        "\n",
        "# # model = XGBRegressor(\n",
        "# #     max_depth=10,\n",
        "# #     n_estimators=1000,\n",
        "# #     min_child_weight=0.5, \n",
        "# #     colsample_bytree=0.8, \n",
        "# #     subsample=0.8, \n",
        "# #     eta=0.1,\n",
        "# #      tree_method='gpu_hist',\n",
        "# #     seed=42)\n",
        "# # X_valid=X_train.iloc[train_index, :]\n",
        "# model.fit(\n",
        "#     X_train, \n",
        "#     Y_train, \n",
        "\n",
        "#     eval_metric=\"rmse\", \n",
        "#     eval_set=[(X_train, Y_train), (X_valid, Y_valid)], \n",
        "#     verbose=True, )\n",
        "#     # early_stopping_rounds = 50)\n",
        "\n",
        "time.time() - ts"
      ],
      "execution_count": 0,
      "outputs": [
        {
          "output_type": "stream",
          "text": [
            "/usr/local/lib/python3.6/dist-packages/lofo/lofo_importance.py:4: TqdmExperimentalWarning: Using `tqdm.autonotebook.tqdm` in notebook mode. Use `tqdm.tqdm` instead to force console mode (e.g. in jupyter console)\n",
            "  from tqdm.autonotebook import tqdm\n",
            "/usr/local/lib/python3.6/dist-packages/sklearn/model_selection/_split.py:296: FutureWarning: Setting a random_state has no effect since shuffle is False. This will raise an error in 0.24. You should leave random_state to its default (None), or set shuffle=True.\n",
            "  FutureWarning\n"
          ],
          "name": "stderr"
        },
        {
          "output_type": "stream",
          "text": [
            "INFO: Pandarallel will run on 2 workers.\n",
            "INFO: Pandarallel will use Memory file system to transfer data between the main process and workers.\n"
          ],
          "name": "stdout"
        },
        {
          "output_type": "display_data",
          "data": {
            "application/vnd.jupyter.widget-view+json": {
              "model_id": "fc4832fb5e254b5bbd5413da32333a82",
              "version_minor": 0,
              "version_major": 2
            },
            "text/plain": [
              "HBox(children=(IntProgress(value=0, max=5), HTML(value='')))"
            ]
          },
          "metadata": {
            "tags": []
          }
        },
        {
          "output_type": "stream",
          "text": [
            "[1868923 1868924 1868925 ... 9344609 9344610 9344611]\n",
            "[      0       1       2 ... 1868920 1868921 1868922]\n"
          ],
          "name": "stdout"
        },
        {
          "output_type": "stream",
          "text": [
            "/usr/local/lib/python3.6/dist-packages/lightgbm/engine.py:118: UserWarning: Found `n_estimators` in params. Will use it instead of argument\n",
            "  warnings.warn(\"Found `{}` in params. Will use it instead of argument\".format(alias))\n",
            "/usr/local/lib/python3.6/dist-packages/lightgbm/basic.py:1205: UserWarning: Using categorical_feature in Dataset.\n",
            "  warnings.warn('Using categorical_feature in Dataset.')\n",
            "/usr/local/lib/python3.6/dist-packages/lightgbm/basic.py:762: UserWarning: categorical_feature in param dict is overridden.\n",
            "  warnings.warn('categorical_feature in param dict is overridden.')\n"
          ],
          "name": "stderr"
        },
        {
          "output_type": "stream",
          "text": [
            "Training until validation scores don't improve for 50 rounds.\n",
            "[25]\ttraining's rmse: 1.13589\tvalid_1's rmse: 1.09856\n",
            "[50]\ttraining's rmse: 1.06279\tvalid_1's rmse: 1.04251\n",
            "[75]\ttraining's rmse: 1.00618\tvalid_1's rmse: 0.999786\n",
            "[100]\ttraining's rmse: 0.962626\tvalid_1's rmse: 0.967599\n",
            "[125]\ttraining's rmse: 0.929612\tvalid_1's rmse: 0.943308\n",
            "[150]\ttraining's rmse: 0.902251\tvalid_1's rmse: 0.924549\n",
            "[175]\ttraining's rmse: 0.881241\tvalid_1's rmse: 0.91016\n",
            "[200]\ttraining's rmse: 0.864605\tvalid_1's rmse: 0.900218\n",
            "[225]\ttraining's rmse: 0.851429\tvalid_1's rmse: 0.892273\n",
            "[250]\ttraining's rmse: 0.840603\tvalid_1's rmse: 0.885513\n",
            "[275]\ttraining's rmse: 0.831395\tvalid_1's rmse: 0.88041\n",
            "[300]\ttraining's rmse: 0.822902\tvalid_1's rmse: 0.876531\n",
            "[325]\ttraining's rmse: 0.815524\tvalid_1's rmse: 0.873216\n",
            "[350]\ttraining's rmse: 0.809126\tvalid_1's rmse: 0.87049\n",
            "[375]\ttraining's rmse: 0.803261\tvalid_1's rmse: 0.868516\n",
            "[400]\ttraining's rmse: 0.797885\tvalid_1's rmse: 0.866784\n",
            "[425]\ttraining's rmse: 0.793504\tvalid_1's rmse: 0.865319\n",
            "[450]\ttraining's rmse: 0.789123\tvalid_1's rmse: 0.864189\n",
            "[475]\ttraining's rmse: 0.784955\tvalid_1's rmse: 0.863028\n",
            "[500]\ttraining's rmse: 0.781323\tvalid_1's rmse: 0.862097\n"
          ],
          "name": "stdout"
        }
      ]
    },
    {
      "cell_type": "code",
      "metadata": {
        "id": "oMxaHPPGof4U",
        "colab_type": "code",
        "colab": {}
      },
      "source": [
        "# # test = pd.read_csv('../input/test.csv')\n",
        "# test_df = pd.read_csv('/content/gdrive/My Drive/Colab Notebooks/ML Project/Dataset/Original_Source/test.csv')\n",
        "\n",
        "# good_sales = test_df.merge(train, on=['item_id','shop_id'], how='inner').dropna()\n",
        "# good_pairs = test_df[test_df['ID'].isin(good_sales['ID'])]\n",
        "# no_data_items = test_df[~(test_df['item_id'].isin(train['item_id']))]\n",
        "\n",
        "\n",
        "# print('1. Number of good pairs:', len(good_pairs))\n",
        "# print('2. No Data Items:', len(no_data_items))\n",
        "# print('3. Only Item_id Info:', len(test_df)-len(no_data_items)-len(good_pairs))"
      ],
      "execution_count": 0,
      "outputs": []
    },
    {
      "cell_type": "code",
      "metadata": {
        "id": "DFBcUo4UJMaQ",
        "colab_type": "code",
        "colab": {}
      },
      "source": [
        "# test_df = pd.read_csv('/content/gdrive/My Drive/Colab Notebooks/ML Project/Dataset/Original_Source/test.csv')\n",
        "# # submission=pd.DataFrame\n",
        "# submission=pd.read_csv('/content/gdrive/My Drive/Colab Notebooks/ML Project/Dataset/Original_Source/submission (2).csv')\n",
        "\n",
        "# for i in submission:\n",
        "#   print(i)\n",
        "\n",
        "# # for i in range(214200):\n",
        "# #   if i in good_pairs['ID']:\n",
        "# #     df1=pd.DataFrame({\n",
        "# #         \"ID\": i, \n",
        "# #         \"item_cnt_month\": [y_final_test[i]]})\n",
        "# #     submission.append(df1)\n",
        "# #   else:\n",
        "# #     df1=pd.DataFrame({\"ID\": i, \n",
        "# #     \"item_cnt_month\": [0]})\n",
        "# #     submission.append(df1)\n",
        "# # print(submission)\n",
        "\n",
        "# # submission = pd.DataFrame({\n",
        "# #     \"ID\": test_df.index, \n",
        "# #     \"item_cnt_month\": y_final_test\n",
        "# # })\n",
        "# # submission.to_csv('submission.csv', index=False)"
      ],
      "execution_count": 0,
      "outputs": []
    },
    {
      "cell_type": "code",
      "metadata": {
        "id": "QiDk76mW6NB4",
        "colab_type": "code",
        "colab": {}
      },
      "source": [
        "# test_df = pd.read_csv('/content/gdrive/My Drive/Colab Notebooks/ML Project/Dataset/Original_Source/test.csv')\n",
        "\n",
        "\n",
        "# submission_xgboostlstm=pd.read_csv('/content/gdrive/My Drive/Colab Notebooks/ML Project/Dataset/Original_Source/XGBOOST_LSTM_submission.csv')\n",
        "# submission=pd.read_csv('/content/gdrive/My Drive/Colab Notebooks/ML Project/Dataset/Original_Source/submission (2).csv')\n",
        "\n",
        "# # submission_xgboostlstm=\n",
        "\n",
        "# # submission = pd.DataFrame({\n",
        "# #     \"ID\": test_df.index, \n",
        "# #     \"item_cnt_month\": y_final_test\n",
        "# # })\n",
        "# # submission.to_csv('submission.csv', index=False)"
      ],
      "execution_count": 0,
      "outputs": []
    },
    {
      "cell_type": "code",
      "metadata": {
        "id": "Z5fEFa9EBFmI",
        "colab_type": "code",
        "colab": {}
      },
      "source": [
        "# submission['item_cnt_month'] = (submission['item_cnt_month'] + submission_xgboostlstm['item_cnt_month'])/2\n",
        "\n",
        "# print('-Save predict')\n",
        "# submission.to_csv('XGBOOST_LSTM_LGBMsubmission1.csv', index=False)\n",
        "# # print('output file :','XGBOOST_LSTM_submission','saved')\n"
      ],
      "execution_count": 0,
      "outputs": []
    },
    {
      "cell_type": "code",
      "metadata": {
        "id": "r845zOJP65p6",
        "colab_type": "code",
        "colab": {}
      },
      "source": [
        "print(y_final_test[0])"
      ],
      "execution_count": 0,
      "outputs": []
    },
    {
      "cell_type": "code",
      "metadata": {
        "id": "WlMXGyILbsBk",
        "colab_type": "code",
        "colab": {}
      },
      "source": [
        "os.chdir('/content/gdrive/My Drive/ML-project/data')"
      ],
      "execution_count": 0,
      "outputs": []
    },
    {
      "cell_type": "code",
      "metadata": {
        "id": "Qy3abG6i6sbH",
        "colab_type": "code",
        "colab": {}
      },
      "source": [
        "# test_df = pd.read_csv('/content/gdrive/My Drive/Colab Notebooks/ML Project/Dataset/Original_Source/test.csv')\n",
        "# # submission=pd.DataFrame\n",
        "# for i in range(214200):\n",
        "#   if i in good_pairs['ID']:\n",
        "#     df1=pd.DataFrame({\n",
        "#         \"ID\": i, \n",
        "#         \"item_cnt_month\": [y_final_test[i]]})\n",
        "#     submission.append(df1)\n",
        "#   else:\n",
        "#     df1=pd.DataFrame({\"ID\": i, \n",
        "#     \"item_cnt_month\": [0]})\n",
        "#     submission.append(df1)\n",
        "# # print(submission)\n",
        "\n",
        "# # submission = pd.DataFrame({\n",
        "# #     \"ID\": test_df.index, \n",
        "# #     \"item_cnt_month\": y_final_test\n",
        "# # })\n",
        "# # submission.to_csv('submission.csv', index=False)"
      ],
      "execution_count": 0,
      "outputs": []
    },
    {
      "cell_type": "code",
      "metadata": {
        "id": "R8fjUNTNJKPa",
        "colab_type": "code",
        "colab": {}
      },
      "source": [
        ""
      ],
      "execution_count": 0,
      "outputs": []
    },
    {
      "cell_type": "code",
      "metadata": {
        "id": "2MdTr5KxHfMX",
        "colab_type": "code",
        "colab": {}
      },
      "source": [
        "\n",
        "test_df = pd.read_csv('test.csv')\n",
        "# # submission=pd.DataFrame\n",
        "# for i in range(214200):\n",
        "#   if i in good_pairs['ID']:\n",
        "#     df1=pd.DataFrame({\n",
        "#         \"ID\": i, \n",
        "#         \"item_cnt_month\": [y_final_test[i]]})\n",
        "#     submission.append(df1)\n",
        "#   else:\n",
        "#     df1=pd.DataFrame({\"ID\": i, \n",
        "#     \"item_cnt_month\": 0})\n",
        "#     submission.append(df1)\n",
        "# print(submission)\n",
        "\n",
        "submission = pd.DataFrame({\n",
        "    \"ID\": test_df.index, \n",
        "    \"item_cnt_month\": y_final_test\n",
        "})\n",
        "submission.to_csv('submission_modparams1.csv', index=False)"
      ],
      "execution_count": 0,
      "outputs": []
    },
    {
      "cell_type": "code",
      "metadata": {
        "id": "fzIcvh6t4AZp",
        "colab_type": "code",
        "colab": {}
      },
      "source": [
        "# print(test_df.index,)"
      ],
      "execution_count": 0,
      "outputs": []
    },
    {
      "cell_type": "code",
      "metadata": {
        "id": "9gnvvRbo6Li_",
        "colab_type": "code",
        "colab": {}
      },
      "source": [
        "# df_fimp = pd.DataFrame()\n",
        "# df_fimp[\"feature\"] = X_train.columns.values\n",
        "# df_fimp[\"importance\"] = impor1\n",
        "\n",
        "\n",
        "\n",
        "# plt.figure(figsize=(15, 10))\n",
        "# sns.barplot(x=\"importance\", y=\"feature\", data=df_fimp.sort_values(by=\"importance\", ascending=False))\n",
        "# plt.title(\"LightGBM Feature Importance\")\n",
        "# plt.tight_layout()\n",
        "\n",
        "\n",
        "# # Early stopping, best iteration is:\n",
        "# # [110]\ttraining's l2: 0.723487\tvalid_1's l2: 0.624898\n",
        "\n",
        "\n",
        "\n",
        "# # dart: 0.7507965195057723 0.3168247187962057\n",
        "# # xxxxxxxxx 0.7477004712072799 0.31445062766595816 - 70 leaves\n",
        "# # xxxxxxxxx 0.7473484451263276 0.3140945278978704 90 leaves"
      ],
      "execution_count": 0,
      "outputs": []
    },
    {
      "cell_type": "code",
      "metadata": {
        "id": "7hby4gGKmG-_",
        "colab_type": "code",
        "colab": {}
      },
      "source": [
        "# X_test.shape"
      ],
      "execution_count": 0,
      "outputs": []
    },
    {
      "cell_type": "code",
      "metadata": {
        "id": "_ySz6eFro2ML",
        "colab_type": "code",
        "colab": {}
      },
      "source": [
        ""
      ],
      "execution_count": 0,
      "outputs": []
    }
  ]
}